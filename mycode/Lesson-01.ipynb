{
 "cells": [
  {
   "cell_type": "markdown",
   "metadata": {},
   "source": [
    "## Lesson-01"
   ]
  },
  {
   "cell_type": "code",
   "execution_count": 96,
   "metadata": {},
   "outputs": [],
   "source": [
    "simple_grammar = \"\"\"\n",
    "sentence => noun_phrase verb_phrase\n",
    "noun_phrase => Article Adj* noun\n",
    "Adj* => null | Adj Adj*\n",
    "verb_phrase => verb noun_phrase\n",
    "Article =>  一个 | 这个\n",
    "noun =>   女人 |  篮球 | 桌子 | 小猫\n",
    "verb => 看着   |  坐在 |  听着 | 看见\n",
    "Adj =>  蓝色的 | 好看的 | 小小的\n",
    "\"\"\""
   ]
  },
  {
   "cell_type": "code",
   "execution_count": 97,
   "metadata": {},
   "outputs": [],
   "source": [
    "simplest_grammar = \"\"\"\n",
    "number = number number | single_number\n",
    "single_number = 1|2|3|4|5|6|7|8|9|0\n",
    "\"\"\""
   ]
  },
  {
   "cell_type": "code",
   "execution_count": 98,
   "metadata": {},
   "outputs": [],
   "source": [
    "import random"
   ]
  },
  {
   "cell_type": "code",
   "execution_count": 99,
   "metadata": {},
   "outputs": [
    {
     "data": {
      "text/plain": [
       "'蓝色的'"
      ]
     },
     "execution_count": 99,
     "metadata": {},
     "output_type": "execute_result"
    }
   ],
   "source": [
    "def adj(): return random.choice('蓝色的 | 好看的 | 小小的'.split('|')).split()[0] \n",
    "# 生成形容词\n",
    "    # 用'|'切分\n",
    "    # split() 按空格切分 \n",
    "    #[0]：取第一个\n",
    "adj()"
   ]
  },
  {
   "cell_type": "code",
   "execution_count": 100,
   "metadata": {},
   "outputs": [],
   "source": [
    "def adj_star():\n",
    "    return random.choice([None, adj() + adj()])\n",
    "adj_star()"
   ]
  },
  {
   "cell_type": "markdown",
   "metadata": {},
   "source": [
    "## But the question is ?\n",
    "如果我们更换了语法，会发现所有写过的程序，都要重新写。:("
   ]
  },
  {
   "cell_type": "code",
   "execution_count": 101,
   "metadata": {},
   "outputs": [],
   "source": [
    "adj_grammar = \"\"\"\n",
    "Adj* => null | Adj Adj*\n",
    "Adj =>  蓝色的 | 好看的 | 小小的 \n",
    "\"\"\"\n",
    "# terminal ： 不能拓展的东西，终端\n",
    "# 如果出现在等号左边，表示可以拓展，如果只出现在等号右边，则不能拓展\n",
    "# 例如： Adj可以拓展，’蓝色的’不能拓展"
   ]
  },
  {
   "cell_type": "code",
   "execution_count": 102,
   "metadata": {},
   "outputs": [],
   "source": [
    "def create_grammar(grammar_str, split = '=>', line_split='\\n'): # 括号里等号右边 是默认值\n",
    "    grammar = {}\n",
    "    # 定义一个字典\n",
    "    # key是 可以拓展的\n",
    "    # value是 不能拓展的\n",
    "    for line in grammar_str.split(line_split):\n",
    "        if not line.strip(): continue  # 删除掉line前后的空格，如果为空，则继续读下一行\n",
    "        exp, stmt = line.split(split)\n",
    "        grammar[exp.strip()] = [s.split() for s in stmt.split('|')]  # key 是 =>的左边，对应的value是=>的右边\n",
    "    return grammar\n",
    "# grammar"
   ]
  },
  {
   "cell_type": "code",
   "execution_count": 103,
   "metadata": {},
   "outputs": [
    {
     "data": {
      "text/plain": [
       "{'sentence': [['noun_phrase', 'verb_phrase']],\n",
       " 'noun_phrase': [['Article', 'Adj*', 'noun']],\n",
       " 'Adj*': [['null'], ['Adj', 'Adj*']],\n",
       " 'verb_phrase': [['verb', 'noun_phrase']],\n",
       " 'Article': [['一个'], ['这个']],\n",
       " 'noun': [['女人'], ['篮球'], ['桌子'], ['小猫']],\n",
       " 'verb': [['看着'], ['坐在'], ['听着'], ['看见']],\n",
       " 'Adj': [['蓝色的'], ['好看的'], ['小小的']]}"
      ]
     },
     "execution_count": 103,
     "metadata": {},
     "output_type": "execute_result"
    }
   ],
   "source": [
    "example_grammar = create_grammar(simple_grammar)\n",
    "example_grammar"
   ]
  },
  {
   "cell_type": "code",
   "execution_count": 107,
   "metadata": {},
   "outputs": [],
   "source": [
    "choice = random.choice\n",
    "\n",
    "def generate(gram, target):\n",
    "    if target not in gram: return target\n",
    "    expanded = [generate(gram, t) for t in choice(gram[target])]\n",
    "    return ''.join([e if e != '/n'else '\\n' for e in expanded if e != 'null'])\n",
    "# [e if e != '/n'else '\\n'] : 如果 e 不等于/n 就得到e，如果其它（e等于/n）那e就换成 \\n\n",
    "# 例如下面那个单元的例子\n",
    "# generate(gram = grammar, target = 'Adj*')"
   ]
  },
  {
   "cell_type": "code",
   "execution_count": 108,
   "metadata": {},
   "outputs": [
    {
     "name": "stdout",
     "output_type": "stream",
     "text": [
      "[100, 2, 3]\n"
     ]
    }
   ],
   "source": [
    "a = [1,2,3]\n",
    "print([i if i !=1 else 100 for i in a])"
   ]
  },
  {
   "cell_type": "code",
   "execution_count": 109,
   "metadata": {},
   "outputs": [
    {
     "data": {
      "text/plain": [
       "'这个蓝色的女人坐在一个桌子'"
      ]
     },
     "execution_count": 109,
     "metadata": {},
     "output_type": "execute_result"
    }
   ],
   "source": [
    "generate(gram=example_grammar, target='sentence')"
   ]
  },
  {
   "cell_type": "code",
   "execution_count": 32,
   "metadata": {},
   "outputs": [],
   "source": [
    "#在西部世界里，一个”人类“的语言可以定义为：\n",
    "\n",
    "human = \"\"\"\n",
    "human = 自己 寻找 活动\n",
    "自己 = 我 | 俺 | 我们 \n",
    "寻找 = 找找 | 想找点 \n",
    "活动 = 乐子 | 玩的\n",
    "\"\"\"\n",
    "\n",
    "\n",
    "#一个“接待员”的语言可以定义为\n",
    "\n",
    "host = \"\"\"\n",
    "host = 寒暄 报数 询问 业务相关 结尾 \n",
    "报数 = 我是 数字 号 ,\n",
    "数字 = 单个数字 | 数字 单个数字 \n",
    "单个数字 = 1 | 2 | 3 | 4 | 5 | 6 | 7 | 8 | 9 \n",
    "寒暄 = 称谓 打招呼 | 打招呼\n",
    "称谓 = 人称 ,\n",
    "人称 = 先生 | 女士 | 小朋友\n",
    "打招呼 = 你好 | 您好 \n",
    "询问 = 请问你要 | 您需要\n",
    "业务相关 = 玩玩 具体业务\n",
    "玩玩 = null\n",
    "具体业务 = 喝酒 | 打牌 | 打猎 | 赌博\n",
    "结尾 = 吗？\n",
    "\"\"\""
   ]
  },
  {
   "cell_type": "code",
   "execution_count": 86,
   "metadata": {},
   "outputs": [
    {
     "name": "stdout",
     "output_type": "stream",
     "text": [
      "你好我是45号,请问你要赌博吗？\n",
      "女士,你好我是411号,请问你要打猎吗？\n",
      "您好我是8491号,您需要赌博吗？\n",
      "小朋友,你好我是458号,您需要赌博吗？\n",
      "你好我是2号,请问你要打牌吗？\n",
      "你好我是39号,请问你要打猎吗？\n",
      "女士,你好我是53号,您需要打猎吗？\n",
      "女士,你好我是228号,请问你要打牌吗？\n",
      "先生,您好我是1号,请问你要喝酒吗？\n",
      "你好我是238号,请问你要打猎吗？\n",
      "你好我是521号,您需要打猎吗？\n",
      "先生,您好我是99号,您需要打猎吗？\n",
      "你好我是6号,请问你要打猎吗？\n",
      "你好我是2号,您需要喝酒吗？\n",
      "您好我是4号,请问你要喝酒吗？\n",
      "女士,你好我是339号,请问你要打猎吗？\n",
      "你好我是79621号,请问你要喝酒吗？\n",
      "你好我是42号,请问你要喝酒吗？\n",
      "先生,你好我是24号,您需要打牌吗？\n",
      "先生,你好我是7号,请问你要打牌吗？\n"
     ]
    }
   ],
   "source": [
    "for i in range(20):\n",
    "    print(generate(gram=create_grammar(host, split='='), target='host'))"
   ]
  },
  {
   "cell_type": "markdown",
   "metadata": {},
   "source": [
    "## Data Driven\n",
    "我们的目标是，希望做一个程序，然后，当输入的数据变化的时候，我们的程序不用重写。Generalization.\n",
    "\n",
    "AI? 如何能自动化解决问题，我们找到一个方法之后，输入变了，我们的这个方法，不用变。"
   ]
  },
  {
   "cell_type": "code",
   "execution_count": 62,
   "metadata": {},
   "outputs": [],
   "source": [
    "programming = \"\"\"\n",
    "stmt => if_exp | while_exp | assignment \n",
    "assignment => var = var\n",
    "if_exp => if ( var ) { /n stmt }\n",
    "while_exp=> while ( var ) { /n stmt }\n",
    "var => chars number\n",
    "chars => char | char char\n",
    "char => student | name | info  | database | course\n",
    "number => 1 | 2 | 3\n",
    "\"\"\""
   ]
  },
  {
   "cell_type": "code",
   "execution_count": 106,
   "metadata": {},
   "outputs": [
    {
     "ename": "NameError",
     "evalue": "name 'generate' is not defined",
     "output_type": "error",
     "traceback": [
      "\u001b[1;31m---------------------------------------------------------------------------\u001b[0m",
      "\u001b[1;31mNameError\u001b[0m                                 Traceback (most recent call last)",
      "\u001b[1;32m<ipython-input-106-4c8530d0292c>\u001b[0m in \u001b[0;36m<module>\u001b[1;34m()\u001b[0m\n\u001b[1;32m----> 1\u001b[1;33m \u001b[0mgenerate\u001b[0m\u001b[1;33m(\u001b[0m\u001b[0mgram\u001b[0m\u001b[1;33m=\u001b[0m\u001b[0mcreate_grammar\u001b[0m\u001b[1;33m(\u001b[0m\u001b[0mprogramming\u001b[0m\u001b[1;33m,\u001b[0m \u001b[0msplit\u001b[0m\u001b[1;33m=\u001b[0m\u001b[1;34m'=>'\u001b[0m\u001b[1;33m)\u001b[0m\u001b[1;33m,\u001b[0m \u001b[0mtarget\u001b[0m\u001b[1;33m=\u001b[0m\u001b[1;34m'stmt'\u001b[0m\u001b[1;33m)\u001b[0m\u001b[1;33m\u001b[0m\u001b[0m\n\u001b[0m\u001b[0;32m      2\u001b[0m \u001b[1;31m# 这样显示的结果里 有 \\n\u001b[0m\u001b[1;33m\u001b[0m\u001b[1;33m\u001b[0m\u001b[0m\n",
      "\u001b[1;31mNameError\u001b[0m: name 'generate' is not defined"
     ]
    }
   ],
   "source": [
    "generate(gram=create_grammar(programming, split='=>'), target='stmt')\n",
    "# 这样显示的结果里 有 \\n "
   ]
  },
  {
   "cell_type": "code",
   "execution_count": 77,
   "metadata": {},
   "outputs": [
    {
     "name": "stdout",
     "output_type": "stream",
     "text": [
      "name2=database3\n"
     ]
    }
   ],
   "source": [
    "print(generate(gram=create_grammar (programming, split='=>'), target='stmt'))"
   ]
  },
  {
   "cell_type": "markdown",
   "metadata": {},
   "source": [
    "## Language Model\n",
    "\n",
    "基于概率的方法\n",
    "$$ language_model(String) = Probability(String) \\in (0 , 1) $$\n",
    "一句话有很多的单词组成 $$ w_1 w_2 w_3 w_4 $$\n",
    "$$ P 表示 Probability $$\n",
    "$$ P(w_1w_2w_3w_4) = P(w_1|w_2w_3w_4)*P(w_2w_3w_4) $$\n",
    "$$ P(w_1w_2w_3w_4) = P(w_1|w_2w_3w_4)*P(w_2|w_3w_4)*P(w_3|w_4)*P(w_4) $$\n",
    "how to get $$ P(w_1|w_2w_3w_4)? $$ \n",
    "$$ w_1的出现与 w_2w_3w_4 有关 $$\n",
    "比如：“早上吃早饭” “早上吃晚饭” 出现了早上这个词，那晚饭这个词就不应该出现。晚饭这个词受早上这个词的影响"
   ]
  },
  {
   "cell_type": "code",
   "execution_count": 1,
   "metadata": {},
   "outputs": [],
   "source": [
    "filename = '../material/sqlResult_1558435.csv' # ..表示返回当前程序所在文件夹的上一级目录"
   ]
  },
  {
   "cell_type": "code",
   "execution_count": 2,
   "metadata": {},
   "outputs": [],
   "source": [
    "import pandas as pd "
   ]
  },
  {
   "cell_type": "code",
   "execution_count": 3,
   "metadata": {},
   "outputs": [],
   "source": [
    "# content = pd.read_csv(filename)\n",
    "# 上面这个命令，会出现错误 \n",
    "# UnicodeDecodeError: 'utf-8' codec can't decode byte 0xba in position 0: invalid start byte\n",
    "# 是因为编码解码方式不同的原因\n",
    "# https://docs.python.org/2.4/lib/standard-encodings.html\n",
    "# 改为下面这个\n",
    "content = pd.read_csv(filename, encoding = 'gb18030')"
   ]
  },
  {
   "cell_type": "code",
   "execution_count": null,
   "metadata": {},
   "outputs": [],
   "source": [
    "content.head()  # 把这个文件作为数据源"
   ]
  },
  {
   "cell_type": "code",
   "execution_count": 4,
   "metadata": {},
   "outputs": [],
   "source": [
    "articles = content['content'].tolist()"
   ]
  },
  {
   "cell_type": "code",
   "execution_count": 5,
   "metadata": {},
   "outputs": [
    {
     "data": {
      "text/plain": [
       "89611"
      ]
     },
     "execution_count": 5,
     "metadata": {},
     "output_type": "execute_result"
    }
   ],
   "source": [
    "len(articles)"
   ]
  },
  {
   "cell_type": "code",
   "execution_count": 6,
   "metadata": {},
   "outputs": [
    {
     "data": {
      "text/plain": [
       "'在外国名著《麦田里的守望者》中，作者想要守护麦田里如自己内心一般纯真的孩子们。而驻村干部们，也在这个炎热的夏天里撸袖子上阵，真正做起了村民们的“麦田守望者”。\\r\\n三夏时节不等人\\r\\n你看到了吗？不停翻涌起伏、仿若铺陈至天边的金黄麦浪中，那若隐若现的人影，是自治区新闻出版广电局驻和田市肖尔巴格乡合尼村工作队的队员与工作队组织的青年志愿者。\\r\\n在这个炎热的夏季，他们深入田间地头，帮助村民们收割小麦。扛起收麦机，麦田中的每个人都显得兴致勃勃，一天下来就近22亩小麦收割完毕。\\r\\n志愿者麦麦提亚森擦去满脸的汗水，高兴地告诉驻村队员：“我们青年志愿者应该多做贡献，为村里的脱贫致富出把力。工作队带着我们为村里的老人服务，看到那些像我爷爷奶奶一样的老人赞许感谢的目光，我体会到了帮助他人的快乐。”（自治区新闻出版广电局驻村工作队孙敏 艾力依布拉音）\\r\\n麦收时节 我们在一起\\r\\n6月中旬的和田墨玉，麦田金黄，静待收割。\\r\\n6月14日、15日两天，自治区高级人民法院驻和田地区墨玉县吐外特乡罕勒克艾日克村工作队与48名村民志愿者一道，帮助村里29户有需要的村民进行小麦收割工作。\\r\\n田间地头，罕勒克艾日克村志愿队的红旗迎风飘扬，格外醒目。10余台割麦机一起轰鸣，男人们在用机器收割小麦的同时，几名妇女也加入到志愿队，构成了一道美丽的麦收风景。\\r\\n休息空闲，工作队员和村民们坐在树荫下、田埂上，互相问好、聊天。语言交流有困难，就用手势、动作比划着聊天，有趣地交流方式不时引来阵阵欢笑。大家在一同享受丰收和喜悦，也一同增进着彼此的情感和友谊。（自治区高级人民法院驻村工作队周春梅 艾地艾木·阿不拉）\\r\\n细看稻菽千重浪\\r\\n6月15日，自治区煤田灭火工程局的干部职工们再一次跋涉1000多公里来到了叶城县萨依巴格乡阿亚格欧尔达贝格村，见到了自己的亲戚。现场处处都透出掩盖不住的喜悦，一声声亲切的“谢谢”、一个个结实的拥抱，都透露出浓浓的亲情。\\r\\n没坐一会儿，在嘘寒问暖中大家了解到在麦收的关键时刻，部分村民家中却存在收割难的问题。小麦成熟期短，收获的时间集中，天气的变化对小麦最终产量的影响极大，如果不能及时收割，会有不小损失的。于是，大家几乎立刻就决定要帮助亲戚们收割麦子。\\r\\n在茂密的麦地里，干部们每人手持一把镰刀，一字排开，挽起衣袖、卷起裤腿，挥舞着镰刀进行着无声的竞赛。\\r\\n骄阳似火，汗如雨下，但这都挡不住大家的热情。随着此起彼伏的镰刀割倒麦子的“刷刷”声响，不一会，一束束沉甸甸的麦穗就被整齐地堆放了起来。\\r\\n当看到自己亲手收割的金黄色麦穗，被一簇簇地打成捆运送到晒场，每个人的脸上都露出了灿烂的笑容。（自治区煤田灭火工程局驻村工作队马浩南）\\r\\n这是一个收获多多的季节\\r\\n6月13日清晨6时许，和田地区民丰县若雅乡特开墩村的麦田里已经传来马达轰鸣声。原来是自治区质监局驻村工作队趁着天气尚且凉爽，开始了麦田的收割工作。\\r\\n忙碌间隙，志愿者队伍搬来清凉的水，村民们拎来鲜甜的西瓜，抹一把汗水，吃一牙西瓜，甜蜜的汁水似乎流进了每一个人的心里。\\r\\n说起割麦子，对于生活在这片土地上的村民来说是再平常不过的事，但是对于工作队队员们来说却是陌生的。\\r\\n自治区质监局驻民丰县若克雅乡博斯坦村工作队队员们一开始觉得十几个人一起收割二亩地应该会挺快的，结果却一点不简单。\\r\\n镰刀拿到自己手里割起来，考验才真正的开始。大家弓着腰、弯着腿，亦步亦趋，手上挥舞着镰刀，时刻注意不要让镰刀割到自己，脚下还要留心不要把套种的玉米苗踩伤，不一会儿，就已经汗流浃背了。抬头看看，身边的村民早就远远地割到前面去了，只有今年已经56岁的工作队队长李树刚有割麦经验，多少给队员们挽回了些“面子”。\\r\\n赶不上村民们割麦子的速度，更不要说搞定收割机这台大家伙了。“现代化的机械收割，能成倍提升小麦的收割速度。”李树刚说，“不过，能有这样的体验，拉近和村民的距离，也是很难得的体验。”（自治区质监局驻村工作队王辉 马君刚）\\r\\n我们是麦田的守护者\\r\\n为了应对麦收，新疆银监局驻和田县塔瓦库勒乡也先巴扎村工作队一早就从经济支援和人力支援两方面做好了准备。一方面，工作队帮村里购入了5台小麦收割机，另一边，还组织村干部、青年团员等组成了6支近百人的“收割先锋突击队”，帮助村民们抢收麦子。\\r\\n看着及时归仓的麦子，村民们喜得合不拢嘴，纷纷摘下自家杏树上的杏子送给工作队。金黄的麦穗温暖了村民们的心，香甜的杏子温暖了工作队员的心，麦子加杏子，拉近了村民和队员们的心……（新疆银监局驻村工作队王继发）\\r\\n免责声明：本文仅代表作者个人观点，与环球网无关。其原创性以及文中陈述文字和内容未经本站证实，对本文以及其中全部或者部分内容、文字的真实性、完整性、及时性本站不作任何保证或承诺，请读者仅作参考，并请自行核实相关内容。\\r\\n'"
      ]
     },
     "execution_count": 6,
     "metadata": {},
     "output_type": "execute_result"
    }
   ],
   "source": [
    "articles[110]"
   ]
  },
  {
   "cell_type": "code",
   "execution_count": 7,
   "metadata": {},
   "outputs": [],
   "source": [
    "# 内容有很多无用字符 \\r\\n一类的\n",
    "# 利用正则表达式将其去除\n",
    "# 正则表达式就是 你定义一种模式，表达式可以把满足这种模式的东西找出来\n",
    "import re"
   ]
  },
  {
   "cell_type": "code",
   "execution_count": 8,
   "metadata": {},
   "outputs": [],
   "source": [
    "def token(string):\n",
    "    return re.findall('\\w+', string)  # '\\w+'把所有的单词找出来\n",
    "# re.findall(pattern, string, flag=0)\n",
    "# pattern 正则表达式\n",
    "# string 表示需要处理的字符串\n",
    "# flags 说明匹配模式，如是否大小写 re.I"
   ]
  },
  {
   "cell_type": "code",
   "execution_count": 113,
   "metadata": {},
   "outputs": [
    {
     "data": {
      "text/plain": [
       "['在外国名著',\n",
       " '麦田里的守望者',\n",
       " '中',\n",
       " '作者想要守护麦田里如自己内心一般纯真的孩子们',\n",
       " '而驻村干部们',\n",
       " '也在这个炎热的夏天里撸袖子上阵',\n",
       " '真正做起了村民们的',\n",
       " '麦田守望者',\n",
       " '三夏时节不等人',\n",
       " '你看到了吗',\n",
       " '不停翻涌起伏',\n",
       " '仿若铺陈至天边的金黄麦浪中',\n",
       " '那若隐若现的人影',\n",
       " '是自治区新闻出版广电局驻和田市肖尔巴格乡合尼村工作队的队员与工作队组织的青年志愿者',\n",
       " '在这个炎热的夏季',\n",
       " '他们深入田间地头',\n",
       " '帮助村民们收割小麦',\n",
       " '扛起收麦机',\n",
       " '麦田中的每个人都显得兴致勃勃',\n",
       " '一天下来就近22亩小麦收割完毕',\n",
       " '志愿者麦麦提亚森擦去满脸的汗水',\n",
       " '高兴地告诉驻村队员',\n",
       " '我们青年志愿者应该多做贡献',\n",
       " '为村里的脱贫致富出把力',\n",
       " '工作队带着我们为村里的老人服务',\n",
       " '看到那些像我爷爷奶奶一样的老人赞许感谢的目光',\n",
       " '我体会到了帮助他人的快乐',\n",
       " '自治区新闻出版广电局驻村工作队孙敏',\n",
       " '艾力依布拉音',\n",
       " '麦收时节',\n",
       " '我们在一起',\n",
       " '6月中旬的和田墨玉',\n",
       " '麦田金黄',\n",
       " '静待收割',\n",
       " '6月14日',\n",
       " '15日两天',\n",
       " '自治区高级人民法院驻和田地区墨玉县吐外特乡罕勒克艾日克村工作队与48名村民志愿者一道',\n",
       " '帮助村里29户有需要的村民进行小麦收割工作',\n",
       " '田间地头',\n",
       " '罕勒克艾日克村志愿队的红旗迎风飘扬',\n",
       " '格外醒目',\n",
       " '10余台割麦机一起轰鸣',\n",
       " '男人们在用机器收割小麦的同时',\n",
       " '几名妇女也加入到志愿队',\n",
       " '构成了一道美丽的麦收风景',\n",
       " '休息空闲',\n",
       " '工作队员和村民们坐在树荫下',\n",
       " '田埂上',\n",
       " '互相问好',\n",
       " '聊天',\n",
       " '语言交流有困难',\n",
       " '就用手势',\n",
       " '动作比划着聊天',\n",
       " '有趣地交流方式不时引来阵阵欢笑',\n",
       " '大家在一同享受丰收和喜悦',\n",
       " '也一同增进着彼此的情感和友谊',\n",
       " '自治区高级人民法院驻村工作队周春梅',\n",
       " '艾地艾木',\n",
       " '阿不拉',\n",
       " '细看稻菽千重浪',\n",
       " '6月15日',\n",
       " '自治区煤田灭火工程局的干部职工们再一次跋涉1000多公里来到了叶城县萨依巴格乡阿亚格欧尔达贝格村',\n",
       " '见到了自己的亲戚',\n",
       " '现场处处都透出掩盖不住的喜悦',\n",
       " '一声声亲切的',\n",
       " '谢谢',\n",
       " '一个个结实的拥抱',\n",
       " '都透露出浓浓的亲情',\n",
       " '没坐一会儿',\n",
       " '在嘘寒问暖中大家了解到在麦收的关键时刻',\n",
       " '部分村民家中却存在收割难的问题',\n",
       " '小麦成熟期短',\n",
       " '收获的时间集中',\n",
       " '天气的变化对小麦最终产量的影响极大',\n",
       " '如果不能及时收割',\n",
       " '会有不小损失的',\n",
       " '于是',\n",
       " '大家几乎立刻就决定要帮助亲戚们收割麦子',\n",
       " '在茂密的麦地里',\n",
       " '干部们每人手持一把镰刀',\n",
       " '一字排开',\n",
       " '挽起衣袖',\n",
       " '卷起裤腿',\n",
       " '挥舞着镰刀进行着无声的竞赛',\n",
       " '骄阳似火',\n",
       " '汗如雨下',\n",
       " '但这都挡不住大家的热情',\n",
       " '随着此起彼伏的镰刀割倒麦子的',\n",
       " '刷刷',\n",
       " '声响',\n",
       " '不一会',\n",
       " '一束束沉甸甸的麦穗就被整齐地堆放了起来',\n",
       " '当看到自己亲手收割的金黄色麦穗',\n",
       " '被一簇簇地打成捆运送到晒场',\n",
       " '每个人的脸上都露出了灿烂的笑容',\n",
       " '自治区煤田灭火工程局驻村工作队马浩南',\n",
       " '这是一个收获多多的季节',\n",
       " '6月13日清晨6时许',\n",
       " '和田地区民丰县若雅乡特开墩村的麦田里已经传来马达轰鸣声',\n",
       " '原来是自治区质监局驻村工作队趁着天气尚且凉爽',\n",
       " '开始了麦田的收割工作',\n",
       " '忙碌间隙',\n",
       " '志愿者队伍搬来清凉的水',\n",
       " '村民们拎来鲜甜的西瓜',\n",
       " '抹一把汗水',\n",
       " '吃一牙西瓜',\n",
       " '甜蜜的汁水似乎流进了每一个人的心里',\n",
       " '说起割麦子',\n",
       " '对于生活在这片土地上的村民来说是再平常不过的事',\n",
       " '但是对于工作队队员们来说却是陌生的',\n",
       " '自治区质监局驻民丰县若克雅乡博斯坦村工作队队员们一开始觉得十几个人一起收割二亩地应该会挺快的',\n",
       " '结果却一点不简单',\n",
       " '镰刀拿到自己手里割起来',\n",
       " '考验才真正的开始',\n",
       " '大家弓着腰',\n",
       " '弯着腿',\n",
       " '亦步亦趋',\n",
       " '手上挥舞着镰刀',\n",
       " '时刻注意不要让镰刀割到自己',\n",
       " '脚下还要留心不要把套种的玉米苗踩伤',\n",
       " '不一会儿',\n",
       " '就已经汗流浃背了',\n",
       " '抬头看看',\n",
       " '身边的村民早就远远地割到前面去了',\n",
       " '只有今年已经56岁的工作队队长李树刚有割麦经验',\n",
       " '多少给队员们挽回了些',\n",
       " '面子',\n",
       " '赶不上村民们割麦子的速度',\n",
       " '更不要说搞定收割机这台大家伙了',\n",
       " '现代化的机械收割',\n",
       " '能成倍提升小麦的收割速度',\n",
       " '李树刚说',\n",
       " '不过',\n",
       " '能有这样的体验',\n",
       " '拉近和村民的距离',\n",
       " '也是很难得的体验',\n",
       " '自治区质监局驻村工作队王辉',\n",
       " '马君刚',\n",
       " '我们是麦田的守护者',\n",
       " '为了应对麦收',\n",
       " '新疆银监局驻和田县塔瓦库勒乡也先巴扎村工作队一早就从经济支援和人力支援两方面做好了准备',\n",
       " '一方面',\n",
       " '工作队帮村里购入了5台小麦收割机',\n",
       " '另一边',\n",
       " '还组织村干部',\n",
       " '青年团员等组成了6支近百人的',\n",
       " '收割先锋突击队',\n",
       " '帮助村民们抢收麦子',\n",
       " '看着及时归仓的麦子',\n",
       " '村民们喜得合不拢嘴',\n",
       " '纷纷摘下自家杏树上的杏子送给工作队',\n",
       " '金黄的麦穗温暖了村民们的心',\n",
       " '香甜的杏子温暖了工作队员的心',\n",
       " '麦子加杏子',\n",
       " '拉近了村民和队员们的心',\n",
       " '新疆银监局驻村工作队王继发',\n",
       " '免责声明',\n",
       " '本文仅代表作者个人观点',\n",
       " '与环球网无关',\n",
       " '其原创性以及文中陈述文字和内容未经本站证实',\n",
       " '对本文以及其中全部或者部分内容',\n",
       " '文字的真实性',\n",
       " '完整性',\n",
       " '及时性本站不作任何保证或承诺',\n",
       " '请读者仅作参考',\n",
       " '并请自行核实相关内容']"
      ]
     },
     "execution_count": 113,
     "metadata": {},
     "output_type": "execute_result"
    }
   ],
   "source": [
    "token(articles[110])"
   ]
  },
  {
   "cell_type": "code",
   "execution_count": 116,
   "metadata": {},
   "outputs": [
    {
     "data": {
      "text/plain": [
       "'在外国名著麦田里的守望者中作者想要守护麦田里如自己内心一般纯真的孩子们而驻村干部们也在这个炎热的夏天里撸袖子上阵真正做起了村民们的麦田守望者三夏时节不等人你看到了吗不停翻涌起伏仿若铺陈至天边的金黄麦浪中那若隐若现的人影是自治区新闻出版广电局驻和田市肖尔巴格乡合尼村工作队的队员与工作队组织的青年志愿者在这个炎热的夏季他们深入田间地头帮助村民们收割小麦扛起收麦机麦田中的每个人都显得兴致勃勃一天下来就近22亩小麦收割完毕志愿者麦麦提亚森擦去满脸的汗水高兴地告诉驻村队员我们青年志愿者应该多做贡献为村里的脱贫致富出把力工作队带着我们为村里的老人服务看到那些像我爷爷奶奶一样的老人赞许感谢的目光我体会到了帮助他人的快乐自治区新闻出版广电局驻村工作队孙敏艾力依布拉音麦收时节我们在一起6月中旬的和田墨玉麦田金黄静待收割6月14日15日两天自治区高级人民法院驻和田地区墨玉县吐外特乡罕勒克艾日克村工作队与48名村民志愿者一道帮助村里29户有需要的村民进行小麦收割工作田间地头罕勒克艾日克村志愿队的红旗迎风飘扬格外醒目10余台割麦机一起轰鸣男人们在用机器收割小麦的同时几名妇女也加入到志愿队构成了一道美丽的麦收风景休息空闲工作队员和村民们坐在树荫下田埂上互相问好聊天语言交流有困难就用手势动作比划着聊天有趣地交流方式不时引来阵阵欢笑大家在一同享受丰收和喜悦也一同增进着彼此的情感和友谊自治区高级人民法院驻村工作队周春梅艾地艾木阿不拉细看稻菽千重浪6月15日自治区煤田灭火工程局的干部职工们再一次跋涉1000多公里来到了叶城县萨依巴格乡阿亚格欧尔达贝格村见到了自己的亲戚现场处处都透出掩盖不住的喜悦一声声亲切的谢谢一个个结实的拥抱都透露出浓浓的亲情没坐一会儿在嘘寒问暖中大家了解到在麦收的关键时刻部分村民家中却存在收割难的问题小麦成熟期短收获的时间集中天气的变化对小麦最终产量的影响极大如果不能及时收割会有不小损失的于是大家几乎立刻就决定要帮助亲戚们收割麦子在茂密的麦地里干部们每人手持一把镰刀一字排开挽起衣袖卷起裤腿挥舞着镰刀进行着无声的竞赛骄阳似火汗如雨下但这都挡不住大家的热情随着此起彼伏的镰刀割倒麦子的刷刷声响不一会一束束沉甸甸的麦穗就被整齐地堆放了起来当看到自己亲手收割的金黄色麦穗被一簇簇地打成捆运送到晒场每个人的脸上都露出了灿烂的笑容自治区煤田灭火工程局驻村工作队马浩南这是一个收获多多的季节6月13日清晨6时许和田地区民丰县若雅乡特开墩村的麦田里已经传来马达轰鸣声原来是自治区质监局驻村工作队趁着天气尚且凉爽开始了麦田的收割工作忙碌间隙志愿者队伍搬来清凉的水村民们拎来鲜甜的西瓜抹一把汗水吃一牙西瓜甜蜜的汁水似乎流进了每一个人的心里说起割麦子对于生活在这片土地上的村民来说是再平常不过的事但是对于工作队队员们来说却是陌生的自治区质监局驻民丰县若克雅乡博斯坦村工作队队员们一开始觉得十几个人一起收割二亩地应该会挺快的结果却一点不简单镰刀拿到自己手里割起来考验才真正的开始大家弓着腰弯着腿亦步亦趋手上挥舞着镰刀时刻注意不要让镰刀割到自己脚下还要留心不要把套种的玉米苗踩伤不一会儿就已经汗流浃背了抬头看看身边的村民早就远远地割到前面去了只有今年已经56岁的工作队队长李树刚有割麦经验多少给队员们挽回了些面子赶不上村民们割麦子的速度更不要说搞定收割机这台大家伙了现代化的机械收割能成倍提升小麦的收割速度李树刚说不过能有这样的体验拉近和村民的距离也是很难得的体验自治区质监局驻村工作队王辉马君刚我们是麦田的守护者为了应对麦收新疆银监局驻和田县塔瓦库勒乡也先巴扎村工作队一早就从经济支援和人力支援两方面做好了准备一方面工作队帮村里购入了5台小麦收割机另一边还组织村干部青年团员等组成了6支近百人的收割先锋突击队帮助村民们抢收麦子看着及时归仓的麦子村民们喜得合不拢嘴纷纷摘下自家杏树上的杏子送给工作队金黄的麦穗温暖了村民们的心香甜的杏子温暖了工作队员的心麦子加杏子拉近了村民和队员们的心新疆银监局驻村工作队王继发免责声明本文仅代表作者个人观点与环球网无关其原创性以及文中陈述文字和内容未经本站证实对本文以及其中全部或者部分内容文字的真实性完整性及时性本站不作任何保证或承诺请读者仅作参考并请自行核实相关内容'"
      ]
     },
     "execution_count": 116,
     "metadata": {},
     "output_type": "execute_result"
    }
   ],
   "source": [
    "''.join(token(articles[110]))"
   ]
  },
  {
   "cell_type": "code",
   "execution_count": 17,
   "metadata": {},
   "outputs": [],
   "source": [
    "articles_num = 1000 # you need change it to -1 when you do your homework\n",
    "\n",
    "articles_clean = [''.join(token(str(a)))for a in articles[:articles_num]]"
   ]
  },
  {
   "cell_type": "code",
   "execution_count": 18,
   "metadata": {},
   "outputs": [
    {
     "data": {
      "text/plain": [
       "1000"
      ]
     },
     "execution_count": 18,
     "metadata": {},
     "output_type": "execute_result"
    }
   ],
   "source": [
    "len(articles_clean)"
   ]
  },
  {
   "cell_type": "code",
   "execution_count": 19,
   "metadata": {},
   "outputs": [
    {
     "data": {
      "text/plain": [
       "'此外自本周6月12日起除小米手机6等15款机型外其余机型已暂停更新发布含开发版体验版内测稳定版暂不受影响以确保工程师可以集中全部精力进行系统优化工作有人猜测这也是将精力主要用到MIUI9的研发之中MIUI8去年5月发布距今已有一年有余也是时候更新换代了当然关于MIUI9的确切信息我们还是等待官方消息'"
      ]
     },
     "execution_count": 19,
     "metadata": {},
     "output_type": "execute_result"
    }
   ],
   "source": [
    "articles_clean[0]"
   ]
  },
  {
   "cell_type": "code",
   "execution_count": 20,
   "metadata": {},
   "outputs": [],
   "source": [
    "from collections import Counter\n",
    "import jieba"
   ]
  },
  {
   "cell_type": "code",
   "execution_count": 21,
   "metadata": {},
   "outputs": [],
   "source": [
    "with_jieba_cut = Counter(jieba.cut(articles[110]))"
   ]
  },
  {
   "cell_type": "code",
   "execution_count": 22,
   "metadata": {},
   "outputs": [],
   "source": [
    "def cut(string): return list(jieba.cut(string))\n",
    "# jieba 是专门用与中文分词的，英文就是直接用空格分词"
   ]
  },
  {
   "cell_type": "code",
   "execution_count": 23,
   "metadata": {},
   "outputs": [],
   "source": [
    "articles_words = [\n",
    "    cut(string) for string in articles_clean\n",
    "]"
   ]
  },
  {
   "cell_type": "code",
   "execution_count": 24,
   "metadata": {},
   "outputs": [],
   "source": [
    "from functools import reduce\n",
    "from operator import add, mul"
   ]
  },
  {
   "cell_type": "code",
   "execution_count": 30,
   "metadata": {},
   "outputs": [],
   "source": [
    "# TOKENS = reduce(add, articles_words) # 将所有的单词全部加起来\n",
    "with open('../material/article_9k.txt', 'w') as f:\n",
    "    for a in articles_clean:\n",
    "        f.write(a + '\\n')"
   ]
  },
  {
   "cell_type": "code",
   "execution_count": 50,
   "metadata": {},
   "outputs": [
    {
     "name": "stdout",
     "output_type": "stream",
     "text": [
      "0\n",
      "100\n",
      "200\n",
      "300\n",
      "400\n",
      "500\n",
      "600\n",
      "700\n",
      "800\n",
      "900\n"
     ]
    }
   ],
   "source": [
    "# articles_words[1]\n",
    "TOKEN = []\n",
    "for i,line in enumerate(open('../material/article_9k.txt')):\n",
    "    # readline()模式：每次只读取一句话，处理速度就是快很多\n",
    "    if i % 100 == 0: print(i)\n",
    "    if i > 10000: break   \n",
    "        # replace 10000 with a big number when you do your homework    \n",
    "    TOKEN += cut(line)"
   ]
  },
  {
   "cell_type": "code",
   "execution_count": 46,
   "metadata": {},
   "outputs": [
    {
     "data": {
      "text/plain": [
       "441274"
      ]
     },
     "execution_count": 46,
     "metadata": {},
     "output_type": "execute_result"
    }
   ],
   "source": [
    "len(TOKEN)"
   ]
  },
  {
   "cell_type": "code",
   "execution_count": 47,
   "metadata": {},
   "outputs": [],
   "source": [
    "from collections import  Counter"
   ]
  },
  {
   "cell_type": "code",
   "execution_count": 53,
   "metadata": {},
   "outputs": [
    {
     "data": {
      "text/plain": [
       "[('的', 23730),\n",
       " ('在', 6156),\n",
       " ('了', 5473),\n",
       " ('是', 3990),\n",
       " ('和', 3470),\n",
       " ('也', 2085),\n",
       " ('有', 2001),\n",
       " ('月', 1999),\n",
       " ('将', 1746),\n",
       " ('他', 1617),\n",
       " ('年', 1611),\n",
       " ('对', 1442),\n",
       " ('等', 1423),\n",
       " ('都', 1417),\n",
       " ('为', 1386),\n",
       " ('日', 1351),\n",
       " ('中', 1330),\n",
       " ('不', 1313),\n",
       " ('上', 1305),\n",
       " ('与', 1280)]"
      ]
     },
     "execution_count": 53,
     "metadata": {},
     "output_type": "execute_result"
    }
   ],
   "source": [
    "words_count = Counter(TOKEN) # 计数\n",
    "words_count.most_common(20) # 出现最多的前20名"
   ]
  },
  {
   "cell_type": "code",
   "execution_count": 58,
   "metadata": {},
   "outputs": [],
   "source": [
    "frequences = [f for w,f in words_count.most_common(20)]"
   ]
  },
  {
   "cell_type": "code",
   "execution_count": 59,
   "metadata": {},
   "outputs": [],
   "source": [
    "x = [i for i in range(20)]"
   ]
  },
  {
   "cell_type": "code",
   "execution_count": 60,
   "metadata": {},
   "outputs": [],
   "source": [
    "%matplotlib inline"
   ]
  },
  {
   "cell_type": "code",
   "execution_count": 61,
   "metadata": {},
   "outputs": [],
   "source": [
    "import matplotlib.pyplot as plt"
   ]
  },
  {
   "cell_type": "code",
   "execution_count": 62,
   "metadata": {},
   "outputs": [
    {
     "data": {
      "text/plain": [
       "[<matplotlib.lines.Line2D at 0x1de5071fe80>]"
      ]
     },
     "execution_count": 62,
     "metadata": {},
     "output_type": "execute_result"
    },
    {
     "data": {
      "image/png": "[encoded data removed]",
      "text/plain": [
       "<Figure size 432x288 with 1 Axes>"
      ]
     },
     "metadata": {},
     "output_type": "display_data"
    }
   ],
   "source": [
    "plt.plot(x, frequences)"
   ]
  },
  {
   "cell_type": "code",
   "execution_count": 63,
   "metadata": {},
   "outputs": [],
   "source": [
    "import numpy as np"
   ]
  },
  {
   "cell_type": "code",
   "execution_count": 65,
   "metadata": {},
   "outputs": [
    {
     "data": {
      "text/plain": [
       "[<matplotlib.lines.Line2D at 0x1de507cec18>]"
      ]
     },
     "execution_count": 65,
     "metadata": {},
     "output_type": "execute_result"
    },
    {
     "data": {
      "image/png": "[encoded data removed]",
      "text/plain": [
       "<Figure size 432x288 with 1 Axes>"
      ]
     },
     "metadata": {},
     "output_type": "display_data"
    }
   ],
   "source": [
    "plt.plot(x, np.log(frequences))"
   ]
  },
  {
   "cell_type": "code",
   "execution_count": 66,
   "metadata": {},
   "outputs": [
    {
     "data": {
      "text/plain": [
       "['此外',\n",
       " '自',\n",
       " '本周',\n",
       " '6',\n",
       " '月',\n",
       " '12',\n",
       " '日起',\n",
       " '除',\n",
       " '小米',\n",
       " '手机',\n",
       " '6',\n",
       " '等',\n",
       " '15',\n",
       " '款',\n",
       " '机型',\n",
       " '外',\n",
       " '其余',\n",
       " '机型',\n",
       " '已',\n",
       " '暂停',\n",
       " '更新',\n",
       " '发布',\n",
       " '含',\n",
       " '开发',\n",
       " '版',\n",
       " '体验版',\n",
       " '内测',\n",
       " '稳定版',\n",
       " '暂不受',\n",
       " '影响',\n",
       " '以',\n",
       " '确保',\n",
       " '工程师',\n",
       " '可以',\n",
       " '集中',\n",
       " '全部',\n",
       " '精力',\n",
       " '进行',\n",
       " '系统优化',\n",
       " '工作',\n",
       " '有人',\n",
       " '猜测',\n",
       " '这',\n",
       " '也',\n",
       " '是',\n",
       " '将',\n",
       " '精力',\n",
       " '主要',\n",
       " '用到',\n",
       " 'MIUI9',\n",
       " '的',\n",
       " '研发',\n",
       " '之中',\n",
       " 'MIUI8',\n",
       " '去年',\n",
       " '5',\n",
       " '月',\n",
       " '发布',\n",
       " '距今已有',\n",
       " '一年',\n",
       " '有余',\n",
       " '也',\n",
       " '是',\n",
       " '时候',\n",
       " '更新换代',\n",
       " '了',\n",
       " '当然',\n",
       " '关于',\n",
       " 'MIUI9',\n",
       " '的',\n",
       " '确切',\n",
       " '信息',\n",
       " '我们',\n",
       " '还是',\n",
       " '等待',\n",
       " '官方消息',\n",
       " '\\n',\n",
       " '骁龙',\n",
       " '835',\n",
       " '作为',\n",
       " '唯一',\n",
       " '通过',\n",
       " 'Windows10',\n",
       " '桌面',\n",
       " '平台',\n",
       " '认证',\n",
       " '的',\n",
       " 'ARM',\n",
       " '处理器',\n",
       " '高通',\n",
       " '强调',\n",
       " '不会',\n",
       " '因为',\n",
       " '只',\n",
       " '考虑',\n",
       " '性能',\n",
       " '而',\n",
       " '去',\n",
       " '屏蔽掉',\n",
       " '小',\n",
       " '核心',\n",
       " '相反',\n",
       " '他们',\n",
       " '正',\n",
       " '联手',\n",
       " '微软',\n",
       " '找到',\n",
       " '一种',\n",
       " '适合',\n",
       " '桌面',\n",
       " '平台',\n",
       " '的',\n",
       " '兼顾',\n",
       " '性能',\n",
       " '和',\n",
       " '功耗',\n",
       " '的',\n",
       " '完美',\n",
       " '方案',\n",
       " '报道',\n",
       " '称',\n",
       " '微软',\n",
       " '已经',\n",
       " '拿到',\n",
       " '了',\n",
       " '一些',\n",
       " '新',\n",
       " '的',\n",
       " '源码',\n",
       " '以便',\n",
       " 'Windows10',\n",
       " '更好',\n",
       " '地',\n",
       " '理解',\n",
       " 'biglittle',\n",
       " '架构',\n",
       " '资料',\n",
       " '显示',\n",
       " '骁龙',\n",
       " '835',\n",
       " '作为',\n",
       " '一款',\n",
       " '集成',\n",
       " '了',\n",
       " 'CPUGPU',\n",
       " '基带',\n",
       " '蓝牙',\n",
       " 'WiFi',\n",
       " '的',\n",
       " 'SoC',\n",
       " '比',\n",
       " '传统',\n",
       " '的',\n",
       " 'Wintel',\n",
       " '方案',\n",
       " '可以',\n",
       " '节省',\n",
       " '至少',\n",
       " '30',\n",
       " '的',\n",
       " 'PCB',\n",
       " '空间',\n",
       " '按计划',\n",
       " '今年',\n",
       " 'Q4',\n",
       " '华硕',\n",
       " '惠普',\n",
       " '联想',\n",
       " '将',\n",
       " '首发',\n",
       " '骁龙',\n",
       " '835Win10',\n",
       " '电脑',\n",
       " '预计',\n",
       " '均',\n",
       " '是',\n",
       " '二合一',\n",
       " '形态',\n",
       " '的',\n",
       " '产品',\n",
       " '当然',\n",
       " '高通',\n",
       " '骁龙',\n",
       " '只是',\n",
       " '个',\n",
       " '开始',\n",
       " '未来',\n",
       " '也许',\n",
       " '还',\n",
       " '能',\n",
       " '见到',\n",
       " '三星',\n",
       " 'Exynos',\n",
       " '联发科',\n",
       " '华为',\n",
       " '麒麟',\n",
       " '小米',\n",
       " '澎湃',\n",
       " '等',\n",
       " '进入',\n",
       " 'Windows10',\n",
       " '桌面',\n",
       " '平台',\n",
       " '\\n',\n",
       " '此前',\n",
       " '的',\n",
       " '一加',\n",
       " '3T',\n",
       " '搭载',\n",
       " '的',\n",
       " '是',\n",
       " '3400mAh',\n",
       " '电池',\n",
       " 'DashCharge',\n",
       " '快充',\n",
       " '规格',\n",
       " '为',\n",
       " '5V4A',\n",
       " '至于',\n",
       " '电池',\n",
       " '缩水',\n",
       " '可能',\n",
       " '与',\n",
       " '刘作',\n",
       " '虎',\n",
       " '所说',\n",
       " '一加',\n",
       " '手机',\n",
       " '5',\n",
       " '要',\n",
       " '做',\n",
       " '市面',\n",
       " '最',\n",
       " '轻薄',\n",
       " '大屏',\n",
       " '旗舰',\n",
       " '的',\n",
       " '设定',\n",
       " '有关',\n",
       " '按照',\n",
       " '目前',\n",
       " '掌握',\n",
       " '的',\n",
       " '资料',\n",
       " '一加',\n",
       " '手机',\n",
       " '5',\n",
       " '拥有',\n",
       " '55',\n",
       " '寸',\n",
       " '1080P',\n",
       " '三星',\n",
       " 'AMOLED',\n",
       " '显示屏',\n",
       " '6G8GBRAM64GB128GBROM',\n",
       " '双',\n",
       " '1600',\n",
       " '万',\n",
       " '摄像头',\n",
       " '备货',\n",
       " '量',\n",
       " '惊喜',\n",
       " '根据',\n",
       " '京东',\n",
       " '泄露',\n",
       " '的',\n",
       " '信息',\n",
       " '一加',\n",
       " '5',\n",
       " '起',\n",
       " '售价',\n",
       " '是',\n",
       " 'xx99',\n",
       " '元',\n",
       " '应该',\n",
       " '是',\n",
       " '在',\n",
       " '279928992999',\n",
       " '中',\n",
       " '的',\n",
       " '某个',\n",
       " '\\n',\n",
       " '这是',\n",
       " '6',\n",
       " '月',\n",
       " '18',\n",
       " '日',\n",
       " '在',\n",
       " '葡萄牙',\n",
       " '中部',\n",
       " '大',\n",
       " '佩德罗',\n",
       " '冈',\n",
       " '地区',\n",
       " '拍摄',\n",
       " '的',\n",
       " '被',\n",
       " '森林',\n",
       " '大火',\n",
       " '烧毁',\n",
       " '的',\n",
       " '汽车',\n",
       " '新华社',\n",
       " '记者',\n",
       " '张立',\n",
       " '云摄',\n",
       " '\\n',\n",
       " '原',\n",
       " '标题',\n",
       " '44',\n",
       " '岁',\n",
       " '女子',\n",
       " '跑',\n",
       " '深圳',\n",
       " '约会',\n",
       " '网友',\n",
       " '被',\n",
       " '拒',\n",
       " '暴雨',\n",
       " '中',\n",
       " '裸身',\n",
       " '奔走',\n",
       " '深圳',\n",
       " '交警',\n",
       " '微博称',\n",
       " '昨日',\n",
       " '清晨',\n",
       " '交警',\n",
       " '发现',\n",
       " '有',\n",
       " '一',\n",
       " '女子',\n",
       " '赤裸',\n",
       " '上身',\n",
       " '行走',\n",
       " '在',\n",
       " '南坪',\n",
       " '快速',\n",
       " '上',\n",
       " '期间',\n",
       " '还',\n",
       " '起',\n",
       " '了',\n",
       " '轻生',\n",
       " '年头',\n",
       " '一辅警',\n",
       " '发现',\n",
       " '后',\n",
       " '赶紧',\n",
       " '为',\n",
       " '其',\n",
       " '披上',\n",
       " '黄衣',\n",
       " '并',\n",
       " '一路',\n",
       " '劝说',\n",
       " '她',\n",
       " '那么',\n",
       " '事发',\n",
       " '时',\n",
       " '到底',\n",
       " '都',\n",
       " '发生',\n",
       " '了',\n",
       " '些',\n",
       " '什么',\n",
       " '呢',\n",
       " '南',\n",
       " '都',\n",
       " '记者',\n",
       " '带',\n",
       " '您',\n",
       " '一起',\n",
       " '还原',\n",
       " '现场',\n",
       " '南',\n",
       " '都',\n",
       " '记者',\n",
       " '在',\n",
       " '龙岗',\n",
       " '大队',\n",
       " '坂田',\n",
       " '中队',\n",
       " '见到',\n",
       " '了',\n",
       " '辅警',\n",
       " '刘青',\n",
       " '发现',\n",
       " '女生',\n",
       " '的',\n",
       " '辅警',\n",
       " '一位',\n",
       " '外表',\n",
       " '高大',\n",
       " '帅气',\n",
       " '说话',\n",
       " '略带',\n",
       " '些',\n",
       " '腼腆',\n",
       " '的',\n",
       " '90',\n",
       " '后',\n",
       " '青年',\n",
       " '刘青',\n",
       " '介绍',\n",
       " '6',\n",
       " '月',\n",
       " '16',\n",
       " '日',\n",
       " '早上',\n",
       " '7',\n",
       " '时',\n",
       " '36',\n",
       " '分',\n",
       " '他',\n",
       " '正在',\n",
       " '环城',\n",
       " '南路',\n",
       " '附近',\n",
       " '值勤',\n",
       " '接到',\n",
       " '中队',\n",
       " '关于',\n",
       " '一位',\n",
       " '女子',\n",
       " '裸身',\n",
       " '进入',\n",
       " '机动车',\n",
       " '可能',\n",
       " '有',\n",
       " '危险',\n",
       " '的',\n",
       " '警情',\n",
       " '随后',\n",
       " '骑着',\n",
       " '小',\n",
       " '铁骑',\n",
       " '开始',\n",
       " '沿路',\n",
       " '寻找',\n",
       " '大概',\n",
       " '花',\n",
       " '了',\n",
       " '十多分钟',\n",
       " '在',\n",
       " '南坪',\n",
       " '大道',\n",
       " '坂田',\n",
       " '出口',\n",
       " '往',\n",
       " '龙岗',\n",
       " '方向',\n",
       " '的',\n",
       " '逆行',\n",
       " '辅道',\n",
       " '上',\n",
       " '发现',\n",
       " '该',\n",
       " '女子',\n",
       " '女子',\n",
       " '身上',\n",
       " '一丝不挂',\n",
       " '地逆',\n",
       " '车流',\n",
       " '而',\n",
       " '行时',\n",
       " '走时',\n",
       " '停时',\n",
       " '坐时',\n",
       " '躺',\n",
       " '险象环生',\n",
       " '刘青停',\n",
       " '好',\n",
       " '小',\n",
       " '铁骑',\n",
       " '和',\n",
       " '另外',\n",
       " '一名',\n",
       " '巡防',\n",
       " '员',\n",
       " '追',\n",
       " '了',\n",
       " '上去',\n",
       " '发现',\n",
       " '女子',\n",
       " '的',\n",
       " '情绪',\n",
       " '很',\n",
       " '低落',\n",
       " '话',\n",
       " '不',\n",
       " '多',\n",
       " '刘青',\n",
       " '尝试',\n",
       " '和',\n",
       " '女子',\n",
       " '交流',\n",
       " '劝说',\n",
       " '女子',\n",
       " '离开',\n",
       " '可',\n",
       " '女子',\n",
       " '并',\n",
       " '不',\n",
       " '愿意',\n",
       " '接受',\n",
       " '继续',\n",
       " '缓慢',\n",
       " '地往',\n",
       " '南坪',\n",
       " '快速路',\n",
       " '的',\n",
       " '主干道',\n",
       " '上',\n",
       " '走',\n",
       " '去',\n",
       " '此时',\n",
       " '路边',\n",
       " '上',\n",
       " '已经',\n",
       " '聚集',\n",
       " '了',\n",
       " '很',\n",
       " '市民',\n",
       " '围观',\n",
       " '为了',\n",
       " '不',\n",
       " '刺激',\n",
       " '女子',\n",
       " '的',\n",
       " '情绪',\n",
       " '刘青',\n",
       " '和',\n",
       " '巡防',\n",
       " '员',\n",
       " '一边',\n",
       " '盯',\n",
       " '着',\n",
       " '女子',\n",
       " '一边',\n",
       " '驱赶',\n",
       " '着',\n",
       " '围观',\n",
       " '的',\n",
       " '群众',\n",
       " '现场',\n",
       " '还原',\n",
       " '从',\n",
       " '警方',\n",
       " '提供',\n",
       " '的',\n",
       " '一份',\n",
       " '视频',\n",
       " '了解',\n",
       " '到',\n",
       " '16',\n",
       " '日',\n",
       " '早上',\n",
       " '7',\n",
       " '时',\n",
       " '25',\n",
       " '分',\n",
       " '女子',\n",
       " '出现',\n",
       " '在',\n",
       " '坂雪岗',\n",
       " '大道',\n",
       " '与',\n",
       " '环城',\n",
       " '南路',\n",
       " '的',\n",
       " '监控',\n",
       " '视频',\n",
       " '中',\n",
       " '此时',\n",
       " '女子',\n",
       " '还',\n",
       " '穿着',\n",
       " '白色',\n",
       " '的',\n",
       " '内裤',\n",
       " '正',\n",
       " '沿着',\n",
       " '坂雪岗',\n",
       " '大道',\n",
       " '往',\n",
       " '南坪',\n",
       " '快速',\n",
       " '的',\n",
       " '方向',\n",
       " '缓慢',\n",
       " '地',\n",
       " '走',\n",
       " '着',\n",
       " '当时',\n",
       " '正值',\n",
       " '上班',\n",
       " '高峰期',\n",
       " '十字路口',\n",
       " '的',\n",
       " '车流',\n",
       " '已经',\n",
       " '排起',\n",
       " '了',\n",
       " '长队',\n",
       " '当',\n",
       " '女子',\n",
       " '出现',\n",
       " '时',\n",
       " '路上',\n",
       " '的',\n",
       " '市民',\n",
       " '纷纷',\n",
       " '驻足',\n",
       " '观望',\n",
       " '不少',\n",
       " '车辆',\n",
       " '也',\n",
       " '放慢',\n",
       " '了',\n",
       " '速度',\n",
       " '但',\n",
       " '女子',\n",
       " '并',\n",
       " '不',\n",
       " '为',\n",
       " '市民',\n",
       " '观望',\n",
       " '停下',\n",
       " '脚步',\n",
       " '依然',\n",
       " '缓慢',\n",
       " '走',\n",
       " '着',\n",
       " '当',\n",
       " '女子',\n",
       " '行进',\n",
       " '到',\n",
       " '十字路口',\n",
       " '中间',\n",
       " '时',\n",
       " '一辆',\n",
       " '大',\n",
       " '货车',\n",
       " '挡住',\n",
       " '了',\n",
       " '镜头',\n",
       " '但是',\n",
       " '当',\n",
       " '女子',\n",
       " '再次出现',\n",
       " '镜头',\n",
       " '时',\n",
       " '可以',\n",
       " '发现',\n",
       " '女子',\n",
       " '已经',\n",
       " '没',\n",
       " '穿',\n",
       " '内裤',\n",
       " '了',\n",
       " '全身',\n",
       " '裸露',\n",
       " '继续',\n",
       " '朝着',\n",
       " '南坪',\n",
       " '快速',\n",
       " '方向',\n",
       " '走',\n",
       " '去',\n",
       " '记者',\n",
       " '发现',\n",
       " '视频',\n",
       " '中',\n",
       " '女子',\n",
       " '周围',\n",
       " '并',\n",
       " '没有',\n",
       " '人',\n",
       " '尾随',\n",
       " '或者',\n",
       " '上前',\n",
       " '劝止',\n",
       " '的',\n",
       " '市民',\n",
       " '一',\n",
       " '大清早',\n",
       " '路上',\n",
       " '看到',\n",
       " '这样',\n",
       " '的',\n",
       " '情况',\n",
       " '恐怕',\n",
       " '大家',\n",
       " '都',\n",
       " '没',\n",
       " '办法',\n",
       " '淡定',\n",
       " '面对',\n",
       " '这一',\n",
       " '情况',\n",
       " '刘青',\n",
       " '表示',\n",
       " '一',\n",
       " '开始',\n",
       " '根本',\n",
       " '不敢',\n",
       " '看',\n",
       " '她',\n",
       " '心里',\n",
       " '挺',\n",
       " '别扭',\n",
       " '感觉',\n",
       " '很',\n",
       " '尴尬',\n",
       " '但',\n",
       " '当',\n",
       " '刘青',\n",
       " '跟随',\n",
       " '女子',\n",
       " '上',\n",
       " '了',\n",
       " '南坪',\n",
       " '快速路',\n",
       " '主干道',\n",
       " '时',\n",
       " '女子',\n",
       " '作出',\n",
       " '了',\n",
       " '让',\n",
       " '人',\n",
       " '意想不到',\n",
       " '的',\n",
       " '举动',\n",
       " '她',\n",
       " '突然',\n",
       " '靠近',\n",
       " '护栏',\n",
       " '要',\n",
       " '从',\n",
       " '上面',\n",
       " '跳下去',\n",
       " '刘青',\n",
       " '赶忙',\n",
       " '冲上去',\n",
       " '拉住',\n",
       " '了',\n",
       " '女子',\n",
       " '的',\n",
       " '手',\n",
       " '将',\n",
       " '其',\n",
       " '控制',\n",
       " '住',\n",
       " '并',\n",
       " '远离',\n",
       " '护栏',\n",
       " '碍于',\n",
       " '女子',\n",
       " '没有',\n",
       " '穿衣服',\n",
       " '刘青递',\n",
       " '上',\n",
       " '衣服',\n",
       " '女子',\n",
       " '没',\n",
       " '接受',\n",
       " '还',\n",
       " '把',\n",
       " '衣服',\n",
       " '扔',\n",
       " '到',\n",
       " '排水沟',\n",
       " '里',\n",
       " '继续',\n",
       " '往前走',\n",
       " '没',\n",
       " '办法',\n",
       " '刘青',\n",
       " '只能',\n",
       " '紧紧',\n",
       " '拉',\n",
       " '着',\n",
       " '她',\n",
       " '的',\n",
       " '一只',\n",
       " '手',\n",
       " '跟',\n",
       " '在',\n",
       " '后面',\n",
       " '刘青',\n",
       " '一路上',\n",
       " '耐心',\n",
       " '地',\n",
       " '开导',\n",
       " '安慰',\n",
       " '她',\n",
       " '但',\n",
       " '只',\n",
       " '听到',\n",
       " '她',\n",
       " '不断',\n",
       " '地',\n",
       " '重复',\n",
       " '着',\n",
       " '一句',\n",
       " '话',\n",
       " '要是',\n",
       " '你',\n",
       " '也',\n",
       " '遭遇',\n",
       " '我',\n",
       " '的',\n",
       " '事',\n",
       " '你',\n",
       " '也',\n",
       " '会',\n",
       " '这样',\n",
       " '的',\n",
       " '期间',\n",
       " '她',\n",
       " '还',\n",
       " '不时',\n",
       " '试图',\n",
       " '挣脱',\n",
       " '刘青',\n",
       " '的',\n",
       " '手要',\n",
       " '冲向',\n",
       " '护栏',\n",
       " '往下跳',\n",
       " '就',\n",
       " '这样',\n",
       " '我',\n",
       " '被',\n",
       " '牵',\n",
       " '着',\n",
       " '走',\n",
       " '了',\n",
       " '大概',\n",
       " '十多分钟',\n",
       " '天',\n",
       " '突然',\n",
       " '下起',\n",
       " '了',\n",
       " '大暴雨',\n",
       " '雨大',\n",
       " '的',\n",
       " '连',\n",
       " '眼睛',\n",
       " '都',\n",
       " '睁不开',\n",
       " '刘青',\n",
       " '继续',\n",
       " '说',\n",
       " '着',\n",
       " '瞬间',\n",
       " '他们',\n",
       " '就',\n",
       " '被',\n",
       " '雨',\n",
       " '透',\n",
       " '了',\n",
       " '但',\n",
       " '女子',\n",
       " '依然',\n",
       " '不',\n",
       " '愿意',\n",
       " '接受',\n",
       " '刘青',\n",
       " '的',\n",
       " '帮助',\n",
       " '就',\n",
       " '继续',\n",
       " '冒',\n",
       " '着',\n",
       " '大雨',\n",
       " '往前走',\n",
       " '大概',\n",
       " '走',\n",
       " '了',\n",
       " '有',\n",
       " '四十分钟',\n",
       " '吧',\n",
       " '女子',\n",
       " '突然',\n",
       " '停下',\n",
       " '来说',\n",
       " '我',\n",
       " '想',\n",
       " '回家',\n",
       " '了',\n",
       " '然后',\n",
       " '女子',\n",
       " '也',\n",
       " '接受',\n",
       " '了',\n",
       " '刘青',\n",
       " '递过来',\n",
       " '的',\n",
       " '小',\n",
       " '黄衣',\n",
       " '就',\n",
       " '出现',\n",
       " '了',\n",
       " '深圳',\n",
       " '微博上',\n",
       " '的',\n",
       " '照片',\n",
       " '女子',\n",
       " '披着',\n",
       " '小',\n",
       " '黄衣',\n",
       " '刘青',\n",
       " '小心翼翼',\n",
       " '地',\n",
       " '在',\n",
       " '旁边',\n",
       " '走',\n",
       " '着',\n",
       " '的',\n",
       " '场景',\n",
       " '从',\n",
       " '南平',\n",
       " '快速',\n",
       " '下来',\n",
       " '后',\n",
       " '刘青',\n",
       " '和',\n",
       " '巡防',\n",
       " '员',\n",
       " '将',\n",
       " '女子',\n",
       " '带到',\n",
       " '了',\n",
       " '附近',\n",
       " '的',\n",
       " '坂田',\n",
       " '派出所',\n",
       " '那',\n",
       " '姑娘',\n",
       " '到底',\n",
       " '是',\n",
       " '遭遇',\n",
       " '了',\n",
       " '什么样',\n",
       " '的',\n",
       " '事情',\n",
       " '才',\n",
       " '会',\n",
       " '说',\n",
       " '要是',\n",
       " '你',\n",
       " '也',\n",
       " '遭遇',\n",
       " '我',\n",
       " '的',\n",
       " '事',\n",
       " '你',\n",
       " '也',\n",
       " '会',\n",
       " '这样',\n",
       " '据',\n",
       " '警方',\n",
       " '透露',\n",
       " '该',\n",
       " '女子',\n",
       " '姓',\n",
       " '陈系',\n",
       " '湖北',\n",
       " '人',\n",
       " '今年',\n",
       " '44',\n",
       " '岁',\n",
       " '据',\n",
       " '家属',\n",
       " '反映',\n",
       " '其有',\n",
       " '精神病',\n",
       " '史',\n",
       " '三天',\n",
       " '前',\n",
       " '陈某',\n",
       " '从',\n",
       " '老家',\n",
       " '来',\n",
       " '深圳',\n",
       " '约会',\n",
       " '网友',\n",
       " '但',\n",
       " '约会',\n",
       " '受挫',\n",
       " '导致',\n",
       " '情绪',\n",
       " '异常',\n",
       " '女子',\n",
       " '遂',\n",
       " '产生',\n",
       " '轻生',\n",
       " '念头',\n",
       " ...]"
      ]
     },
     "execution_count": 66,
     "metadata": {},
     "output_type": "execute_result"
    }
   ],
   "source": [
    "TOKEN"
   ]
  },
  {
   "cell_type": "code",
   "execution_count": 67,
   "metadata": {},
   "outputs": [],
   "source": [
    "def prob_1(word):\n",
    "    return words_count[word] / len(TOKEN)"
   ]
  },
  {
   "cell_type": "code",
   "execution_count": 69,
   "metadata": {},
   "outputs": [
    {
     "data": {
      "text/plain": [
       "0.05377611189419726"
      ]
     },
     "execution_count": 69,
     "metadata": {},
     "output_type": "execute_result"
    }
   ],
   "source": [
    "prob_1('的')  # 的 这个词在TOKEN的频率"
   ]
  },
  {
   "cell_type": "code",
   "execution_count": 72,
   "metadata": {},
   "outputs": [],
   "source": [
    "TOKEN = [str(t) for t in TOKEN]"
   ]
  },
  {
   "cell_type": "code",
   "execution_count": 78,
   "metadata": {},
   "outputs": [],
   "source": [
    "TOKEN_2_GRAM = [''.join(TOKEN[i:i+2]) for i in range(len(TOKEN[:-2]))]\n",
    "# 到倒数第二个\n",
    " # 两个两个词连接起来"
   ]
  },
  {
   "cell_type": "code",
   "execution_count": 79,
   "metadata": {},
   "outputs": [
    {
     "data": {
      "text/plain": [
       "['此外自', '自本周', '本周6', '6月', '月12', '12日起', '日起除', '除小米', '小米手机', '手机6']"
      ]
     },
     "execution_count": 79,
     "metadata": {},
     "output_type": "execute_result"
    }
   ],
   "source": [
    "TOKEN_2_GRAM[:10]"
   ]
  },
  {
   "cell_type": "code",
   "execution_count": 81,
   "metadata": {},
   "outputs": [
    {
     "data": {
      "text/plain": [
       "collections.Counter"
      ]
     },
     "execution_count": 81,
     "metadata": {},
     "output_type": "execute_result"
    }
   ],
   "source": [
    "words_count_2 = Counter(TOKEN_2_GRAM)\n",
    "type(words_count_2)"
   ]
  },
  {
   "cell_type": "code",
   "execution_count": 83,
   "metadata": {},
   "outputs": [],
   "source": [
    "def prob_2(word1, word2):\n",
    "    if word1 + word2 in words_count_2: \n",
    "        return words_count_2[word1+word2] / len(TOKEN_2_GRAM)\n",
    "    else:\n",
    "        return 1/len(TOKEN_2_GRAM) # 因为数据量比较少，所有用这个式子来代替缺省值"
   ]
  },
  {
   "cell_type": "code",
   "execution_count": 84,
   "metadata": {},
   "outputs": [
    {
     "data": {
      "text/plain": [
       "5.212204717271887e-05"
      ]
     },
     "execution_count": 84,
     "metadata": {},
     "output_type": "execute_result"
    }
   ],
   "source": [
    "prob_2('我们', '在')"
   ]
  },
  {
   "cell_type": "code",
   "execution_count": 92,
   "metadata": {},
   "outputs": [],
   "source": [
    "def get_probability(sentence):\n",
    "    words = cut(sentence)  # 把一整句话切词\n",
    "    \n",
    "    sentence_pro = 1\n",
    "    \n",
    "    for i, word in enumerate(words[:-1]):\n",
    "        next_ = words[i+1]\n",
    "        \n",
    "        probability = prob_2(word, next_)\n",
    "        \n",
    "        sentence_pro *= probability\n",
    "#     print(sentence_pro)\n",
    "    return sentence_pro"
   ]
  },
  {
   "cell_type": "code",
   "execution_count": 93,
   "metadata": {},
   "outputs": [
    {
     "data": {
      "text/plain": [
       "8.126677471714374e-34"
      ]
     },
     "execution_count": 93,
     "metadata": {},
     "output_type": "execute_result"
    }
   ],
   "source": [
    "get_probability('小明今天抽奖抽到一台苹果手机')"
   ]
  },
  {
   "cell_type": "code",
   "execution_count": 95,
   "metadata": {},
   "outputs": [
    {
     "data": {
      "text/plain": [
       "1.163806790359005e-17"
      ]
     },
     "execution_count": 95,
     "metadata": {},
     "output_type": "execute_result"
    }
   ],
   "source": [
    "get_probability('洋葱奶昔来一杯')"
   ]
  },
  {
   "cell_type": "markdown",
   "metadata": {},
   "source": [
    "##### 这种单词构成句子 叫作 gram\n",
    "##### 如果模型是用了两个词语组成 就叫 2-gram\n",
    "##### 还可以有3个 4个   w1w2w3     w1w2w3w4"
   ]
  },
  {
   "cell_type": "code",
   "execution_count": 110,
   "metadata": {},
   "outputs": [
    {
     "name": "stdout",
     "output_type": "stream",
     "text": [
      "sentence: 这个小小的蓝色的篮球坐在一个小小的好看的好看的蓝色的蓝色的小猫 with Prb: 8.709045671426578e-90\n",
      "sentence: 这个好看的篮球听着一个女人 with Prb: 2.2099777384600086e-38\n",
      "sentence: 一个桌子听着一个好看的女人 with Prb: 4.4199554769200173e-38\n",
      "sentence: 一个小小的蓝色的小猫听着这个小小的小猫 with Prb: 6.305254949759161e-51\n",
      "sentence: 一个好看的篮球看着这个女人 with Prb: 8.126677471714374e-34\n",
      "sentence: 这个蓝色的小猫看着一个篮球 with Prb: 1.3544462452857291e-34\n",
      "sentence: 一个女人看着一个女人 with Prb: 2.637390975087939e-23\n",
      "sentence: 一个小小的蓝色的小小的小小的蓝色的女人听着一个小猫 with Prb: 8.805718230569325e-67\n",
      "sentence: 一个蓝色的蓝色的篮球坐在一个桌子 with Prb: 1.391166231095062e-45\n",
      "sentence: 这个小小的桌子听着这个篮球 with Prb: 5.4177849811429165e-34\n"
     ]
    }
   ],
   "source": [
    "# 生成句子\n",
    "for sen in [generate(gram = example_grammar, target = 'sentence') for i in range(10)]:\n",
    "    print('sentence: {} with Prb: {}'. format(sen, get_probability(sen)))"
   ]
  },
  {
   "cell_type": "code",
   "execution_count": 111,
   "metadata": {},
   "outputs": [
    {
     "name": "stdout",
     "output_type": "stream",
     "text": [
      "明天晚上请你吃大餐，我们一起吃苹果 is more possible\n",
      "---- 今天晚上请你吃大餐，我们一起吃日料 with probility 7.144408607116654e-57\n",
      "---- 明天晚上请你吃大餐，我们一起吃苹果 with probility 7.144408607116654e-57\n",
      "真是一只好看的小猫 is more possible\n",
      "---- 真事一只好看的小猫 with probility 1.7930376106491727e-28\n",
      "---- 真是一只好看的小猫 with probility 7.912172925263817e-23\n",
      "今晚我去吃火锅 is more possible\n",
      "---- 今晚我去吃火锅 with probility 1.396568148430806e-16\n",
      "---- 今晚火锅去吃我 with probility 5.274781950175878e-23\n",
      "养乐多绿来一杯 is more possible\n",
      "---- 洋葱奶昔来一杯 with probility 1.163806790359005e-17\n",
      "---- 养乐多绿来一杯 with probility 5.135553499952989e-12\n"
     ]
    }
   ],
   "source": [
    "need_compared = [\n",
    "    \"今天晚上请你吃大餐，我们一起吃日料 明天晚上请你吃大餐，我们一起吃苹果\",\n",
    "    \"真事一只好看的小猫 真是一只好看的小猫\",\n",
    "    \"今晚我去吃火锅 今晚火锅去吃我\",\n",
    "    \"洋葱奶昔来一杯 养乐多绿来一杯\"\n",
    "]\n",
    "\n",
    "for s in need_compared:\n",
    "    s1, s2 = s.split()\n",
    "    p1, p2 = get_probability(s1), get_probability(s2)\n",
    "    \n",
    "    better = s1 if p1 > p2 else s2\n",
    "    \n",
    "    print('{} is more possible'.format(better))\n",
    "    print('-'*4 + ' {} with probility {}'.format(s1, p1))\n",
    "    print('-'*4 + ' {} with probility {}'.format(s2, p2))"
   ]
  }
 ],
 "metadata": {
  "kernelspec": {
   "display_name": "Python 3",
   "language": "python",
   "name": "python3"
  },
  "language_info": {
   "codemirror_mode": {
    "name": "ipython",
    "version": 3
   },
   "file_extension": ".py",
   "mimetype": "text/x-python",
   "name": "python",
   "nbconvert_exporter": "python",
   "pygments_lexer": "ipython3",
   "version": "3.6.5"
  }
 },
 "nbformat": 4,
 "nbformat_minor": 2
}

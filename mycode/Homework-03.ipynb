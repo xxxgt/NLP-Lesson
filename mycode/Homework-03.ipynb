{
 "cells": [
  {
   "cell_type": "markdown",
   "metadata": {},
   "source": [
    "## loss (第二种)\n",
    "\n",
    "\n",
    "$$ loss = \\frac{1}{n} \\sum{|(kx_i + b_i) - y_i|}  $$"
   ]
  },
  {
   "cell_type": "code",
   "execution_count": 3,
   "metadata": {},
   "outputs": [],
   "source": [
    "def loss(y, y_hat): # to evaluate the performance 预测值与真实值的差别\n",
    "    \n",
    "    return sum(((y_i - y_hat_i)**2)**(1/2) for y_i,y_hat_i in zip(list(y),list(y_hat))) / len(y)"
   ]
  },
  {
   "cell_type": "code",
   "execution_count": 4,
   "metadata": {},
   "outputs": [],
   "source": [
    "import random"
   ]
  },
  {
   "cell_type": "code",
   "execution_count": 5,
   "metadata": {},
   "outputs": [],
   "source": [
    "def price(rm, k, b):\n",
    "    \"\"\"f(x) = k * x + b\"\"\"\n",
    "    return k * rm + b "
   ]
  },
  {
   "cell_type": "code",
   "execution_count": 6,
   "metadata": {},
   "outputs": [],
   "source": [
    "from sklearn.datasets import load_boston"
   ]
  },
  {
   "cell_type": "code",
   "execution_count": 8,
   "metadata": {},
   "outputs": [],
   "source": [
    "data = load_boston()"
   ]
  },
  {
   "cell_type": "code",
   "execution_count": 9,
   "metadata": {},
   "outputs": [],
   "source": [
    "X, y = data['data'],data['target']"
   ]
  },
  {
   "cell_type": "code",
   "execution_count": 10,
   "metadata": {},
   "outputs": [],
   "source": [
    "X_rm = X[:,5]"
   ]
  },
  {
   "cell_type": "code",
   "execution_count": 11,
   "metadata": {},
   "outputs": [],
   "source": [
    "def partial_k2(x, y, y_hat):\n",
    "    n = len(y) \n",
    "    out = 0\n",
    "    for x_i,y_i,y_hat_i in zip(list(X_rm),list(y),list(y_hat)):\n",
    "        if y_i - y_hat_i >= 0:\n",
    "            out += 1/n * (-x_i)\n",
    "        else:\n",
    "            out += 1/n * x_i\n",
    "    return out"
   ]
  },
  {
   "cell_type": "code",
   "execution_count": 12,
   "metadata": {},
   "outputs": [],
   "source": [
    "def partial_b2(x, y, y_hat):\n",
    "    n = len(y)\n",
    "    out = 0\n",
    "    for x_i,y_i,y_hat_i in zip(list(X_rm),list(y),list(y_hat)):\n",
    "        if y_i - y_hat_i >= 0:\n",
    "            out += -1/n \n",
    "        else:\n",
    "            out += 1/n\n",
    "    return out"
   ]
  },
  {
   "cell_type": "code",
   "execution_count": 14,
   "metadata": {},
   "outputs": [
    {
     "name": "stdout",
     "output_type": "stream",
     "text": [
      "When time is: 0, get best_k: None best_b: None, and the loss is 573.8546166120326\n",
      "When time is: 50, get best_k: None best_b: None, and the loss is 571.8297851428968\n",
      "When time is: 100, get best_k: None best_b: None, and the loss is 569.8049536737616\n",
      "When time is: 150, get best_k: None best_b: None, and the loss is 567.780122204626\n",
      "When time is: 200, get best_k: None best_b: None, and the loss is 565.75529073549\n",
      "When time is: 250, get best_k: None best_b: None, and the loss is 563.730459266354\n",
      "When time is: 300, get best_k: None best_b: None, and the loss is 561.7056277972194\n",
      "When time is: 350, get best_k: None best_b: None, and the loss is 559.6807963280837\n",
      "When time is: 400, get best_k: None best_b: None, and the loss is 557.655964858948\n",
      "When time is: 450, get best_k: None best_b: None, and the loss is 555.6311333898125\n",
      "When time is: 500, get best_k: None best_b: None, and the loss is 553.606301920677\n",
      "When time is: 550, get best_k: None best_b: None, and the loss is 551.5814704515413\n",
      "When time is: 600, get best_k: None best_b: None, and the loss is 549.5566389824056\n",
      "When time is: 650, get best_k: None best_b: None, and the loss is 547.5318075132701\n",
      "When time is: 700, get best_k: None best_b: None, and the loss is 545.5069760441348\n",
      "When time is: 750, get best_k: None best_b: None, and the loss is 543.4821445749988\n",
      "When time is: 800, get best_k: None best_b: None, and the loss is 541.4573131058631\n",
      "When time is: 850, get best_k: None best_b: None, and the loss is 539.432481636728\n",
      "When time is: 900, get best_k: None best_b: None, and the loss is 537.4076501675926\n",
      "When time is: 950, get best_k: None best_b: None, and the loss is 535.3828186984568\n",
      "When time is: 1000, get best_k: None best_b: None, and the loss is 533.3579872293215\n",
      "When time is: 1050, get best_k: None best_b: None, and the loss is 531.3331557601857\n",
      "When time is: 1100, get best_k: None best_b: None, and the loss is 529.30832429105\n",
      "When time is: 1150, get best_k: None best_b: None, and the loss is 527.2834928219144\n",
      "When time is: 1200, get best_k: None best_b: None, and the loss is 525.2586613527793\n",
      "When time is: 1250, get best_k: None best_b: None, and the loss is 523.2338298836438\n",
      "When time is: 1300, get best_k: None best_b: None, and the loss is 521.2089984145075\n",
      "When time is: 1350, get best_k: None best_b: None, and the loss is 519.1841669453722\n",
      "When time is: 1400, get best_k: None best_b: None, and the loss is 517.1593354762373\n",
      "When time is: 1450, get best_k: None best_b: None, and the loss is 515.1345040071013\n",
      "When time is: 1500, get best_k: None best_b: None, and the loss is 513.1096725379658\n",
      "When time is: 1550, get best_k: None best_b: None, and the loss is 511.0848410688309\n",
      "When time is: 1600, get best_k: None best_b: None, and the loss is 509.06000959969475\n",
      "When time is: 1650, get best_k: None best_b: None, and the loss is 507.03517813055885\n",
      "When time is: 1700, get best_k: None best_b: None, and the loss is 505.01034666142397\n",
      "When time is: 1750, get best_k: None best_b: None, and the loss is 502.98551519228823\n",
      "When time is: 1800, get best_k: None best_b: None, and the loss is 500.9606837231527\n",
      "When time is: 1850, get best_k: None best_b: None, and the loss is 498.935852254017\n",
      "When time is: 1900, get best_k: None best_b: None, and the loss is 496.91102078488166\n",
      "When time is: 1950, get best_k: None best_b: None, and the loss is 494.8861893157458\n"
     ]
    }
   ],
   "source": [
    "trying_times = 2000\n",
    "\n",
    "min_loss = float('inf')\n",
    "best_k,best_b = None,None\n",
    "\n",
    "current_k = random.random() * 200 - 100\n",
    "current_b = random.random() * 200 - 100\n",
    "\n",
    "learning_rate = 1e-03\n",
    "for i in range(trying_times):\n",
    "        \n",
    "    price_by_k_and_b = [price(r, current_k, current_b) for r in X_rm]\n",
    "    \n",
    "    current_loss = loss(y,price_by_k_and_b)\n",
    "    if current_loss < min_loss: # performance became better\n",
    "        min_loss = current_loss\n",
    "        if i % 50 == 0:\n",
    "            print('When time is: {}, get best_k: {} best_b: {}, and the loss is {}'.format(i,best_k,best_b,min_loss))\n",
    "    \n",
    "    k_gradient = partial_k2(X_rm, y, price_by_k_and_b)\n",
    "    b_gradient = partial_b2(X_rm, y, price_by_k_and_b)\n",
    "    \n",
    "    current_k -= k_gradient*learning_rate\n",
    "    current_b -= b_gradient*learning_rate"
   ]
  },
  {
   "cell_type": "markdown",
   "metadata": {},
   "source": [
    "## Dynamic Programming 动态规划 (不断查表)"
   ]
  },
  {
   "cell_type": "markdown",
   "metadata": {},
   "source": [
    "可能遇到和复杂的情况，搜索的点很多，就会导致生成的树很大。\n",
    "会出现重复搜索的情况。\n"
   ]
  },
  {
   "cell_type": "code",
   "execution_count": 135,
   "metadata": {},
   "outputs": [],
   "source": [
    "original_price = [1, 5, 8, 9, 10, 17, 17, 20, 24, 30, 35]"
   ]
  },
  {
   "cell_type": "code",
   "execution_count": 136,
   "metadata": {},
   "outputs": [],
   "source": [
    "from collections import defaultdict"
   ]
  },
  {
   "cell_type": "code",
   "execution_count": 137,
   "metadata": {},
   "outputs": [],
   "source": [
    "price = defaultdict(int)  # price字典对于未定义的key对应的value是0"
   ]
  },
  {
   "cell_type": "code",
   "execution_count": 138,
   "metadata": {},
   "outputs": [],
   "source": [
    "for i,p in enumerate(original_price):\n",
    "    price[i+1] = p "
   ]
  },
  {
   "cell_type": "code",
   "execution_count": 69,
   "metadata": {},
   "outputs": [],
   "source": [
    "some_default_dict = defaultdict(lambda : 'None')  # ()里表示的是未设置过的key的value默认值"
   ]
  },
  {
   "cell_type": "markdown",
   "metadata": {},
   "source": [
    "## Get the max splitting by enumerate"
   ]
  },
  {
   "cell_type": "markdown",
   "metadata": {},
   "source": [
    "假如想要知道函数运行的时间又多长，或者看这个函数被调用多少次\n",
    "就要用 装饰器"
   ]
  },
  {
   "cell_type": "code",
   "execution_count": 139,
   "metadata": {},
   "outputs": [],
   "source": [
    "def r(n):  # n米长的钢管，最优的价格是多少\n",
    "    return max(\n",
    "        [price[n]] + [r(i) + r(n-i) for i in range(1,n)] #这个+号，是对列表进行操作，相当于append\n",
    "    )"
   ]
  },
  {
   "cell_type": "code",
   "execution_count": 140,
   "metadata": {},
   "outputs": [
    {
     "data": {
      "text/plain": [
       "30"
      ]
     },
     "execution_count": 140,
     "metadata": {},
     "output_type": "execute_result"
    }
   ],
   "source": [
    "r(10) # 当n变大时，运行时间会大大加长"
   ]
  },
  {
   "cell_type": "code",
   "execution_count": 12,
   "metadata": {},
   "outputs": [],
   "source": [
    "called_time = defaultdict(int)\n",
    "\n",
    "def get_call_times(f):\n",
    "    result = f() \n",
    "    print('function: {} called once!'.format(f.__name__))\n",
    "    called_time[f.__name__] += 1\n",
    "    return result"
   ]
  },
  {
   "cell_type": "code",
   "execution_count": 13,
   "metadata": {},
   "outputs": [],
   "source": [
    "def some_function_1(): print('I am function 1')"
   ]
  },
  {
   "cell_type": "markdown",
   "metadata": {},
   "source": [
    "面向时什么意思？\n",
    "面向x \n",
    "那么x时可以作为一个变量的，可以作为函数输入，输出，运算单元"
   ]
  },
  {
   "cell_type": "code",
   "execution_count": 14,
   "metadata": {},
   "outputs": [
    {
     "name": "stdout",
     "output_type": "stream",
     "text": [
      "I am function 1\n",
      "function: some_function_1 called once!\n"
     ]
    }
   ],
   "source": [
    "get_call_times(some_function_1)"
   ]
  },
  {
   "cell_type": "code",
   "execution_count": 15,
   "metadata": {},
   "outputs": [
    {
     "data": {
      "text/plain": [
       "defaultdict(int, {'some_function_1': 1})"
      ]
     },
     "execution_count": 15,
     "metadata": {},
     "output_type": "execute_result"
    }
   ],
   "source": [
    "called_time"
   ]
  },
  {
   "cell_type": "code",
   "execution_count": 19,
   "metadata": {},
   "outputs": [],
   "source": [
    "from collections import Counter"
   ]
  },
  {
   "cell_type": "code",
   "execution_count": 16,
   "metadata": {},
   "outputs": [],
   "source": [
    "call_time_with_arg = defaultdict(int)"
   ]
  },
  {
   "cell_type": "code",
   "execution_count": 17,
   "metadata": {},
   "outputs": [],
   "source": [
    "def r(n):  # n米长的钢管，最优的价格是多少\n",
    "    fname = r.__name__\n",
    "    call_time_with_arg[(fname, n)] += 1\n",
    "    return max(\n",
    "        [price[n]] + [r(i) + r(n-i) for i in range(1,n)] #这个+号，是对列表进行操作，相当于append\n",
    "    )"
   ]
  },
  {
   "cell_type": "code",
   "execution_count": 141,
   "metadata": {},
   "outputs": [
    {
     "data": {
      "text/plain": [
       "45"
      ]
     },
     "execution_count": 141,
     "metadata": {},
     "output_type": "execute_result"
    }
   ],
   "source": [
    "r(15)"
   ]
  },
  {
   "cell_type": "code",
   "execution_count": 142,
   "metadata": {},
   "outputs": [
    {
     "data": {
      "text/plain": [
       "[(('r', 1), 3188646),\n",
       " (('r', 2), 1062882),\n",
       " (('r', 3), 354294),\n",
       " (('r', 4), 118098),\n",
       " (('r', 5), 39366),\n",
       " (('r', 6), 13122),\n",
       " (('r', 7), 4374),\n",
       " (('r', 8), 1458),\n",
       " (('r', 9), 486),\n",
       " (('r', 10), 162),\n",
       " (('r', 11), 54),\n",
       " (('r', 12), 18),\n",
       " (('r', 13), 6),\n",
       " (('r', 14), 2),\n",
       " (('r', 15), 1)]"
      ]
     },
     "execution_count": 142,
     "metadata": {},
     "output_type": "execute_result"
    }
   ],
   "source": [
    "Counter(call_time_with_arg).most_common()  # 看运行上面的r(15)，统计各个r(n)都运行了几次\n",
    "# 可以看到很多r(n)都被重复计算了很多次，这就浪费了很多时间"
   ]
  },
  {
   "cell_type": "markdown",
   "metadata": {},
   "source": [
    "## 装饰器"
   ]
  },
  {
   "cell_type": "code",
   "execution_count": 57,
   "metadata": {},
   "outputs": [],
   "source": [
    "def r(n):  # n米长的钢管，最优的价格是多少\n",
    "    \n",
    "    # 利用装饰器 可以省略下面这两句话\n",
    "    # 这两句话只是观察的时候，想要运行的，并不是真正想要运行的\n",
    "    # fname = r.__name__\n",
    "    # call_time_with_arg[(fname, n)] += 1\n",
    "    return max(\n",
    "        [price[n]] + [r(i) + r(n-i) for i in range(1,n)] #这个+号，是对列表进行操作，相当于append\n",
    "    )"
   ]
  },
  {
   "cell_type": "code",
   "execution_count": 143,
   "metadata": {},
   "outputs": [],
   "source": [
    "called_time_with_arg = defaultdict(int)\n",
    "\n",
    "def get_call_time(f):\n",
    "    def wrap(n):\n",
    "#         print('I can count')\n",
    "        result = f(n)\n",
    "        called_time_with_arg[(f.__name__, n)] += 1\n",
    "        return result\n",
    "    return wrap"
   ]
  },
  {
   "cell_type": "code",
   "execution_count": 144,
   "metadata": {},
   "outputs": [],
   "source": [
    "def add_ten(n): return n+10"
   ]
  },
  {
   "cell_type": "code",
   "execution_count": 145,
   "metadata": {},
   "outputs": [
    {
     "data": {
      "text/plain": [
       "20"
      ]
     },
     "execution_count": 145,
     "metadata": {},
     "output_type": "execute_result"
    }
   ],
   "source": [
    "add_ten(10)"
   ]
  },
  {
   "cell_type": "code",
   "execution_count": 146,
   "metadata": {},
   "outputs": [],
   "source": [
    "add_ten_with_call_time = get_call_time(add_ten)"
   ]
  },
  {
   "cell_type": "code",
   "execution_count": 147,
   "metadata": {},
   "outputs": [
    {
     "data": {
      "text/plain": [
       "<function __main__.get_call_time.<locals>.wrap>"
      ]
     },
     "execution_count": 147,
     "metadata": {},
     "output_type": "execute_result"
    }
   ],
   "source": [
    "add_ten_with_call_time   # 这是一个函数"
   ]
  },
  {
   "cell_type": "code",
   "execution_count": 148,
   "metadata": {},
   "outputs": [
    {
     "data": {
      "text/plain": [
       "19"
      ]
     },
     "execution_count": 148,
     "metadata": {},
     "output_type": "execute_result"
    }
   ],
   "source": [
    "add_ten_with_call_time(9)   # 将10作为n代入了wrap。即就相当于out[31]加上(10)"
   ]
  },
  {
   "cell_type": "code",
   "execution_count": 149,
   "metadata": {},
   "outputs": [
    {
     "data": {
      "text/plain": [
       "defaultdict(int, {('add_ten', 9): 1})"
      ]
     },
     "execution_count": 149,
     "metadata": {},
     "output_type": "execute_result"
    }
   ],
   "source": [
    "called_time_with_arg"
   ]
  },
  {
   "cell_type": "code",
   "execution_count": 150,
   "metadata": {},
   "outputs": [],
   "source": [
    "add_ten = get_call_time(add_ten)"
   ]
  },
  {
   "cell_type": "code",
   "execution_count": 151,
   "metadata": {},
   "outputs": [
    {
     "data": {
      "text/plain": [
       "18"
      ]
     },
     "execution_count": 151,
     "metadata": {},
     "output_type": "execute_result"
    }
   ],
   "source": [
    "add_ten(8)"
   ]
  },
  {
   "cell_type": "markdown",
   "metadata": {},
   "source": [
    "上面这种写法可以换成用装饰器的方法"
   ]
  },
  {
   "cell_type": "code",
   "execution_count": 152,
   "metadata": {},
   "outputs": [],
   "source": [
    "@get_call_time  # 这句话就表示 add_ten = get_call_time(add_ten)\n",
    "def add_twenty(n):\n",
    "    return n + 20\n",
    "# 加这个 @get_call_time 就相当于上面那种调用的写法\n",
    "# 相当于 get_call_time(add_twenty)"
   ]
  },
  {
   "cell_type": "code",
   "execution_count": 153,
   "metadata": {},
   "outputs": [
    {
     "data": {
      "text/plain": [
       "30"
      ]
     },
     "execution_count": 153,
     "metadata": {},
     "output_type": "execute_result"
    }
   ],
   "source": [
    "add_twenty(10)"
   ]
  },
  {
   "cell_type": "markdown",
   "metadata": {},
   "source": [
    "所以回到计算最佳价格的r(n)函数，添加装饰器"
   ]
  },
  {
   "cell_type": "code",
   "execution_count": 76,
   "metadata": {},
   "outputs": [],
   "source": [
    "called_time_with_arg = defaultdict(int)"
   ]
  },
  {
   "cell_type": "code",
   "execution_count": 154,
   "metadata": {},
   "outputs": [],
   "source": [
    "@get_call_time\n",
    "def r(n):  # n米长的钢管，最优的价格是多少\n",
    "    \"\"\"\n",
    "    Args: n is the iron length\n",
    "    Return: the max revenue\n",
    "    \"\"\"\n",
    "    return max(\n",
    "        [price[n]] + [r(i) + r(n-i) for i in range(1,n)] #这个+号，是对列表进行操作，相当于append\n",
    "    )"
   ]
  },
  {
   "cell_type": "code",
   "execution_count": 157,
   "metadata": {},
   "outputs": [
    {
     "data": {
      "text/plain": [
       "30"
      ]
     },
     "execution_count": 157,
     "metadata": {},
     "output_type": "execute_result"
    }
   ],
   "source": [
    "called_time_with_arg = defaultdict(int)\n",
    "r(10)"
   ]
  },
  {
   "cell_type": "code",
   "execution_count": 158,
   "metadata": {},
   "outputs": [
    {
     "data": {
      "text/plain": [
       "defaultdict(int,\n",
       "            {('r', 1): 13122,\n",
       "             ('r', 2): 4374,\n",
       "             ('r', 3): 1458,\n",
       "             ('r', 4): 486,\n",
       "             ('r', 5): 162,\n",
       "             ('r', 6): 54,\n",
       "             ('r', 7): 18,\n",
       "             ('r', 8): 6,\n",
       "             ('r', 9): 2,\n",
       "             ('r', 10): 1})"
      ]
     },
     "execution_count": 158,
     "metadata": {},
     "output_type": "execute_result"
    }
   ],
   "source": [
    "called_time_with_arg"
   ]
  },
  {
   "cell_type": "code",
   "execution_count": 159,
   "metadata": {},
   "outputs": [],
   "source": [
    "from functools import wraps  # 解决失去函数命名的问题"
   ]
  },
  {
   "cell_type": "code",
   "execution_count": 160,
   "metadata": {},
   "outputs": [],
   "source": [
    "called_time_with_arg = defaultdict(int)\n",
    "\n",
    "def get_call_time(f):\n",
    "    @wraps(f)\n",
    "    def wrap(n):\n",
    "        result = f(n)\n",
    "        called_time_with_arg[(f.__name__, n)] += 1\n",
    "        return result\n",
    "    return wrap"
   ]
  },
  {
   "cell_type": "code",
   "execution_count": 161,
   "metadata": {},
   "outputs": [
    {
     "name": "stdout",
     "output_type": "stream",
     "text": [
      "Help on function wrap in module __main__:\n",
      "\n",
      "wrap(n)\n",
      "\n"
     ]
    }
   ],
   "source": [
    "r = get_call_time(r)\n",
    "help(r)"
   ]
  },
  {
   "cell_type": "markdown",
   "metadata": {},
   "source": [
    "既然重复计算了很多个值，就希望能将这些值保存起来，下次再遇到的时候，直接读取"
   ]
  },
  {
   "cell_type": "code",
   "execution_count": 162,
   "metadata": {},
   "outputs": [],
   "source": [
    "cache = {}  # 缓存\n",
    "def memo(f): # 不用重复计算，直接调用之前计算过的结果\n",
    "    \n",
    "    @wraps(f)\n",
    "    def _wrap(arg):\n",
    "        result = None\n",
    "        if arg in cache: \n",
    "            result = cache[arg]\n",
    "        else:    \n",
    "            result = f(arg)\n",
    "            cache[arg] = result\n",
    "        return result\n",
    "    return _wrap"
   ]
  },
  {
   "cell_type": "code",
   "execution_count": 163,
   "metadata": {},
   "outputs": [],
   "source": [
    "@get_call_time\n",
    "@memo\n",
    "def r(n):  # n米长的钢管，最优的价格是多少\n",
    "    return max(\n",
    "        [price[n]] + [r(i) + r(n-i) for i in range(1,n)] #这个+号，是对列表进行操作，相当于append\n",
    "    )"
   ]
  },
  {
   "cell_type": "code",
   "execution_count": 164,
   "metadata": {},
   "outputs": [
    {
     "data": {
      "text/plain": [
       "57"
      ]
     },
     "execution_count": 164,
     "metadata": {},
     "output_type": "execute_result"
    }
   ],
   "source": [
    "called_time_with_arg = defaultdict(int)\n",
    "r(19)"
   ]
  },
  {
   "cell_type": "code",
   "execution_count": 165,
   "metadata": {},
   "outputs": [
    {
     "data": {
      "text/plain": [
       "defaultdict(int,\n",
       "            {('r', 1): 36,\n",
       "             ('r', 2): 34,\n",
       "             ('r', 3): 32,\n",
       "             ('r', 4): 30,\n",
       "             ('r', 5): 28,\n",
       "             ('r', 6): 26,\n",
       "             ('r', 7): 24,\n",
       "             ('r', 8): 22,\n",
       "             ('r', 9): 20,\n",
       "             ('r', 10): 18,\n",
       "             ('r', 11): 16,\n",
       "             ('r', 12): 14,\n",
       "             ('r', 13): 12,\n",
       "             ('r', 14): 10,\n",
       "             ('r', 15): 8,\n",
       "             ('r', 16): 6,\n",
       "             ('r', 17): 4,\n",
       "             ('r', 18): 2,\n",
       "             ('r', 19): 1})"
      ]
     },
     "execution_count": 165,
     "metadata": {},
     "output_type": "execute_result"
    }
   ],
   "source": [
    "called_time_with_arg"
   ]
  },
  {
   "cell_type": "code",
   "execution_count": 166,
   "metadata": {},
   "outputs": [
    {
     "data": {
      "text/plain": [
       "{1: 1,\n",
       " 2: 5,\n",
       " 3: 8,\n",
       " 4: 10,\n",
       " 5: 13,\n",
       " 6: 17,\n",
       " 7: 18,\n",
       " 8: 22,\n",
       " 9: 25,\n",
       " 10: 30,\n",
       " 11: 35,\n",
       " 12: 36,\n",
       " 13: 40,\n",
       " 14: 43,\n",
       " 15: 45,\n",
       " 16: 48,\n",
       " 17: 52,\n",
       " 18: 53,\n",
       " 19: 57}"
      ]
     },
     "execution_count": 166,
     "metadata": {},
     "output_type": "execute_result"
    }
   ],
   "source": [
    "cache"
   ]
  },
  {
   "cell_type": "markdown",
   "metadata": {},
   "source": [
    "现在我只知道可以得到的最优的价格，并不知道如何切分这跟钢管。"
   ]
  },
  {
   "cell_type": "code",
   "execution_count": 167,
   "metadata": {},
   "outputs": [],
   "source": [
    "solution = {}"
   ]
  },
  {
   "cell_type": "code",
   "execution_count": 168,
   "metadata": {},
   "outputs": [],
   "source": [
    "@memo\n",
    "def r(n):  # n米长的钢管，最优的价格是多少\n",
    "    max_price, max_split = max(\n",
    "        [(price[n],0)] + [(r(i) + r(n-i),i) for i in range(1,n)], key = lambda x:x[0]\n",
    "    )\n",
    "    \n",
    "    solution[n] = (n - max_split, max_split)\n",
    "    \n",
    "    return max_price"
   ]
  },
  {
   "cell_type": "code",
   "execution_count": 169,
   "metadata": {},
   "outputs": [
    {
     "data": {
      "text/plain": [
       "118"
      ]
     },
     "execution_count": 169,
     "metadata": {},
     "output_type": "execute_result"
    }
   ],
   "source": [
    "cache = {}\n",
    "r(38)"
   ]
  },
  {
   "cell_type": "code",
   "execution_count": 170,
   "metadata": {},
   "outputs": [
    {
     "data": {
      "text/plain": [
       "{1: (1, 0),\n",
       " 2: (2, 0),\n",
       " 3: (3, 0),\n",
       " 4: (2, 2),\n",
       " 5: (3, 2),\n",
       " 6: (6, 0),\n",
       " 7: (6, 1),\n",
       " 8: (6, 2),\n",
       " 9: (6, 3),\n",
       " 10: (10, 0),\n",
       " 11: (11, 0),\n",
       " 12: (11, 1),\n",
       " 13: (11, 2),\n",
       " 14: (11, 3),\n",
       " 15: (13, 2),\n",
       " 16: (14, 2),\n",
       " 17: (11, 6),\n",
       " 18: (17, 1),\n",
       " 19: (17, 2),\n",
       " 20: (17, 3),\n",
       " 21: (11, 10),\n",
       " 22: (11, 11),\n",
       " 23: (22, 1),\n",
       " 24: (22, 2),\n",
       " 25: (22, 3),\n",
       " 26: (24, 2),\n",
       " 27: (25, 2),\n",
       " 28: (22, 6),\n",
       " 29: (28, 1),\n",
       " 30: (28, 2),\n",
       " 31: (28, 3),\n",
       " 32: (22, 10),\n",
       " 33: (22, 11),\n",
       " 34: (33, 1),\n",
       " 35: (33, 2),\n",
       " 36: (33, 3),\n",
       " 37: (35, 2),\n",
       " 38: (36, 2)}"
      ]
     },
     "execution_count": 170,
     "metadata": {},
     "output_type": "execute_result"
    }
   ],
   "source": [
    " solution"
   ]
  },
  {
   "cell_type": "code",
   "execution_count": 171,
   "metadata": {},
   "outputs": [],
   "source": [
    "def parse_solution(n):\n",
    "    left_split, right_split = solution[n]\n",
    "    if right_split == 0: return [left_split]\n",
    "    return parse_solution(left_split)+parse_solution(right_split)"
   ]
  },
  {
   "cell_type": "code",
   "execution_count": 172,
   "metadata": {},
   "outputs": [
    {
     "data": {
      "text/plain": [
       "[11, 11, 10]"
      ]
     },
     "execution_count": 172,
     "metadata": {},
     "output_type": "execute_result"
    }
   ],
   "source": [
    "parse_solution(32)"
   ]
  },
  {
   "cell_type": "markdown",
   "metadata": {},
   "source": [
    "## Problem 2 : Eidt Distance\n",
    "计算两个单词之间的相似度\n",
    "+ insertion\n",
    "+ delection\n",
    "+ substitution\n",
    "\n",
    "应用范围：\n",
    "+ 拼写错误识别\n"
   ]
  },
  {
   "cell_type": "code",
   "execution_count": 209,
   "metadata": {},
   "outputs": [],
   "source": [
    "solution = defaultdict(None)"
   ]
  },
  {
   "cell_type": "code",
   "execution_count": 210,
   "metadata": {},
   "outputs": [],
   "source": [
    "from functools import lru_cache"
   ]
  },
  {
   "cell_type": "code",
   "execution_count": 211,
   "metadata": {},
   "outputs": [],
   "source": [
    "@lru_cache(maxsize = 2**10)\n",
    "def edit_distance(string1, string2):\n",
    "    # 如果其中一个字符串长度为0，则返回距离：为另一个字符串的长度\n",
    "    if len(string1) == 0: return len(string2)\n",
    "    if len(string2) == 0: return len(string1)\n",
    "    \n",
    "    # 取最后一个字符\n",
    "    tail_s1 = string1[-1]\n",
    "    tail_s2 = string2[-1]\n",
    "    \n",
    "    candidates = [\n",
    "        (edit_distance(string1[:-1], string2) + 1, 'DEL {}'.format(tail_s1)),\n",
    "        #string 1 delete tail\n",
    "        (edit_distance(string1, string2[:-1]) + 1, 'ADD {}'.format(tail_s2)),\n",
    "        # string 1 add tail of string2\n",
    "    ]\n",
    "    \n",
    "    if tail_s1 == tail_s2:\n",
    "        both_forward = (edit_distance(string1[:-1], string2[:-1]) + 0, '')\n",
    "    else:\n",
    "        both_forward = (edit_distance(string1[:-1], string2[:-1]) + 1, 'SUB {} => {}'.format(tail_s1, tail_s2))\n",
    "        \n",
    "    candidates.append(both_forward)\n",
    "    \n",
    "    min_distance, operation = min(candidates, key = lambda x:x[0])\n",
    "    \n",
    "    solution[(string1, string2)] = operation\n",
    "    \n",
    "    return min_distance\n",
    "    "
   ]
  },
  {
   "cell_type": "code",
   "execution_count": 212,
   "metadata": {},
   "outputs": [
    {
     "data": {
      "text/plain": [
       "2"
      ]
     },
     "execution_count": 212,
     "metadata": {},
     "output_type": "execute_result"
    }
   ],
   "source": [
    "edit_distance('ABCDE', 'ABCCEF')"
   ]
  },
  {
   "cell_type": "code",
   "execution_count": 214,
   "metadata": {},
   "outputs": [
    {
     "data": {
      "text/plain": [
       "defaultdict(None,\n",
       "            {('A', 'A'): '',\n",
       "             ('A', 'AB'): 'ADD B',\n",
       "             ('A', 'ABC'): 'ADD C',\n",
       "             ('A', 'ABCC'): 'ADD C',\n",
       "             ('A', 'ABCCE'): 'ADD E',\n",
       "             ('A', 'ABCCEF'): 'ADD F',\n",
       "             ('AB', 'A'): 'DEL B',\n",
       "             ('AB', 'AB'): '',\n",
       "             ('AB', 'ABC'): 'ADD C',\n",
       "             ('AB', 'ABCC'): 'ADD C',\n",
       "             ('AB', 'ABCCE'): 'ADD E',\n",
       "             ('AB', 'ABCCEF'): 'ADD F',\n",
       "             ('ABC', 'A'): 'DEL C',\n",
       "             ('ABC', 'AB'): 'DEL C',\n",
       "             ('ABC', 'ABC'): '',\n",
       "             ('ABC', 'ABCC'): 'ADD C',\n",
       "             ('ABC', 'ABCCE'): 'ADD E',\n",
       "             ('ABC', 'ABCCEF'): 'ADD F',\n",
       "             ('ABCD', 'A'): 'DEL D',\n",
       "             ('ABCD', 'AB'): 'DEL D',\n",
       "             ('ABCD', 'ABC'): 'DEL D',\n",
       "             ('ABCD', 'ABCC'): 'SUB D => C',\n",
       "             ('ABCD', 'ABCCE'): 'ADD E',\n",
       "             ('ABCD', 'ABCCEF'): 'ADD F',\n",
       "             ('ABCDE', 'A'): 'DEL E',\n",
       "             ('ABCDE', 'AB'): 'DEL E',\n",
       "             ('ABCDE', 'ABC'): 'DEL E',\n",
       "             ('ABCDE', 'ABCC'): 'DEL E',\n",
       "             ('ABCDE', 'ABCCE'): '',\n",
       "             ('ABCDE', 'ABCCEF'): 'ADD F'})"
      ]
     },
     "execution_count": 214,
     "metadata": {},
     "output_type": "execute_result"
    }
   ],
   "source": [
    "solution"
   ]
  },
  {
   "cell_type": "code",
   "execution_count": 224,
   "metadata": {},
   "outputs": [],
   "source": [
    "def parse_solution(s1, s2):\n",
    "    method = []\n",
    "    temp = solution[(s1, s2)]\n",
    "    while s1 != s2:\n",
    "        temp = solution[(s1, s2)]\n",
    "        if temp != '':\n",
    "            method.append(temp)\n",
    "        if temp[:3] == 'ADD':\n",
    "            s2 = s2[:-1]\n",
    "        elif temp[:3] == 'DEL':\n",
    "            s1 = s2[:-1]\n",
    "        elif temp[:3] == 'SUB':\n",
    "            s1 = s1[:-1]\n",
    "            s1 += temp[-1]\n",
    "        else:\n",
    "            s1 = s1[:-1]\n",
    "            s2 = s2[:-1]\n",
    "    method = method[::-1]\n",
    "    return method\n",
    "        "
   ]
  },
  {
   "cell_type": "code",
   "execution_count": 225,
   "metadata": {},
   "outputs": [
    {
     "name": "stdout",
     "output_type": "stream",
     "text": [
      "['ADD C', 'ADD E', 'ADD F']\n"
     ]
    }
   ],
   "source": [
    "print(parse_solution('ABC', 'ABCCEF'))"
   ]
  },
  {
   "cell_type": "markdown",
   "metadata": {},
   "source": [
    "## Part 5-1"
   ]
  },
  {
   "cell_type": "markdown",
   "metadata": {},
   "source": [
    "1. Why do we use Derivative / Gradient to fit s target function?\n",
    "求梯度可以找到使目标函数下降最快的方向\n",
    "\n",
    "2. In the words' Gradient Descent', what's the Gradient and what's the Descent?\n",
    "gradient指的是梯度，就是目标函数分别对每个模型的参数求偏导得到的导数。\n",
    "descent指的是沿着梯度的反方向，目标函数的值会变小，逐渐收敛。\n",
    "\n",
    "3. What's the advantages of the 3rd gradient descent method compared to the previous methods?\n",
    "下降的方向更准确，下降的速度更快。\n",
    "\n",
    "4. Using the simple words to describe: What's the machine leanring.\n",
    "建造一个模型，经过不断的调参过程，使得模型输出的结果越来越准确。"
   ]
  },
  {
   "cell_type": "markdown",
   "metadata": {},
   "source": [
    "## Part 5"
   ]
  },
  {
   "cell_type": "markdown",
   "metadata": {},
   "source": [
    "1. Why do we need dynamic programming? What's the difference of dynamic programming and previous talked search problem?\n",
    "需要动态规划的原因：减少重复的计算，通过缓存、查表的方式，获得已经计算过的值。\n",
    "\n",
    "2. Why do we still need dynamic programming? Why not we train a machine learning to fit a function which could get the right answer based on inputs?\n"
   ]
  },
  {
   "cell_type": "code",
   "execution_count": null,
   "metadata": {},
   "outputs": [],
   "source": []
  }
 ],
 "metadata": {
  "kernelspec": {
   "display_name": "Python 3",
   "language": "python",
   "name": "python3"
  },
  "language_info": {
   "codemirror_mode": {
    "name": "ipython",
    "version": 3
   },
   "file_extension": ".py",
   "mimetype": "text/x-python",
   "name": "python",
   "nbconvert_exporter": "python",
   "pygments_lexer": "ipython3",
   "version": "3.6.4"
  }
 },
 "nbformat": 4,
 "nbformat_minor": 2
}
